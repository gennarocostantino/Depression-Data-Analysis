{
 "cells": [
  {
   "cell_type": "code",
   "execution_count": 1,
   "metadata": {
    "scrolled": true
   },
   "outputs": [
    {
     "name": "stdout",
     "output_type": "stream",
     "text": [
      "Collecting tweepyNote: you may need to restart the kernel to use updated packages.\n",
      "\n",
      "  Downloading tweepy-4.14.0-py3-none-any.whl.metadata (3.8 kB)\n",
      "Collecting oauthlib<4,>=3.2.0 (from tweepy)\n",
      "  Downloading oauthlib-3.2.2-py3-none-any.whl.metadata (7.5 kB)\n",
      "Requirement already satisfied: requests<3,>=2.27.0 in c:\\users\\user\\anaconda3\\lib\\site-packages (from tweepy) (2.31.0)\n",
      "Collecting requests-oauthlib<2,>=1.2.0 (from tweepy)\n",
      "  Downloading requests_oauthlib-1.3.1-py2.py3-none-any.whl.metadata (10 kB)\n",
      "Requirement already satisfied: charset-normalizer<4,>=2 in c:\\users\\user\\anaconda3\\lib\\site-packages (from requests<3,>=2.27.0->tweepy) (2.0.4)\n",
      "Requirement already satisfied: idna<4,>=2.5 in c:\\users\\user\\anaconda3\\lib\\site-packages (from requests<3,>=2.27.0->tweepy) (3.4)\n",
      "Requirement already satisfied: urllib3<3,>=1.21.1 in c:\\users\\user\\anaconda3\\lib\\site-packages (from requests<3,>=2.27.0->tweepy) (2.0.7)\n",
      "Requirement already satisfied: certifi>=2017.4.17 in c:\\users\\user\\anaconda3\\lib\\site-packages (from requests<3,>=2.27.0->tweepy) (2024.7.4)\n",
      "Downloading tweepy-4.14.0-py3-none-any.whl (98 kB)\n",
      "   ---------------------------------------- 0.0/98.5 kB ? eta -:--:--\n",
      "   ---------------------------------------- 0.0/98.5 kB ? eta -:--:--\n",
      "   ---- ----------------------------------- 10.2/98.5 kB ? eta -:--:--\n",
      "   ------------ --------------------------- 30.7/98.5 kB 330.3 kB/s eta 0:00:01\n",
      "   ------------ --------------------------- 30.7/98.5 kB 330.3 kB/s eta 0:00:01\n",
      "   ------------------------ --------------- 61.4/98.5 kB 297.7 kB/s eta 0:00:01\n",
      "   ----------------------------- ---------- 71.7/98.5 kB 302.7 kB/s eta 0:00:01\n",
      "   ---------------------------------------- 98.5/98.5 kB 353.1 kB/s eta 0:00:00\n",
      "Downloading oauthlib-3.2.2-py3-none-any.whl (151 kB)\n",
      "   ---------------------------------------- 0.0/151.7 kB ? eta -:--:--\n",
      "   ---------------- ----------------------- 61.4/151.7 kB 1.7 MB/s eta 0:00:01\n",
      "   -------------------------------- ------- 122.9/151.7 kB 1.4 MB/s eta 0:00:01\n",
      "   -------------------------------- ------- 122.9/151.7 kB 1.4 MB/s eta 0:00:01\n",
      "   -------------------------------------- 151.7/151.7 kB 822.4 kB/s eta 0:00:00\n",
      "Downloading requests_oauthlib-1.3.1-py2.py3-none-any.whl (23 kB)\n",
      "Installing collected packages: oauthlib, requests-oauthlib, tweepy\n",
      "Successfully installed oauthlib-3.2.2 requests-oauthlib-1.3.1 tweepy-4.14.0\n"
     ]
    }
   ],
   "source": [
    "pip install tweepy"
   ]
  },
  {
   "cell_type": "code",
   "execution_count": 84,
   "metadata": {},
   "outputs": [
    {
     "name": "stdout",
     "output_type": "stream",
     "text": [
      "Authentication OK\n"
     ]
    }
   ],
   "source": [
    "import tweepy\n",
    "\n",
    "# Your API keys\n",
    "api_key = 'rDIyjpKnhfUJ3ijj7EbMvfbOi'\n",
    "api_secret_key = 'KdDF2JNCyEE7s2GPXgmWciGOx772loFJAMAo3ogjwedUISFgqd'\n",
    "access_token = '1221824074147606529-eJT6VZMppuqNeVsAOB01NGOh4hYOLl'\n",
    "access_token_secret = 'zHW75H3r60SKkXIlAKtzdlJBj828be9MUv06tPdtQ8L5I'\n",
    "\n",
    "# Authenticate to Twitter\n",
    "auth = tweepy.OAuth1UserHandler(api_key, api_secret_key, access_token, access_token_secret)\n",
    "\n",
    "# Create API object\n",
    "api = tweepy.API(auth, wait_on_rate_limit=True)\n",
    "\n",
    "# Test the connection\n",
    "user = api.verify_credentials()\n",
    "if user:\n",
    "    print(\"Authentication OK\")\n",
    "else:\n",
    "    print(\"Error during authentication\")\n"
   ]
  },
  {
   "cell_type": "code",
   "execution_count": 86,
   "metadata": {},
   "outputs": [
    {
     "ename": "Forbidden",
     "evalue": "403 Forbidden\n453 - You currently have access to a subset of Twitter API v2 endpoints and limited v1.1 endpoints (e.g. media post, oauth) only. If you need access to this endpoint, you may need a different access level. You can learn more here: https://developer.twitter.com/en/portal/product",
     "output_type": "error",
     "traceback": [
      "\u001b[1;31m---------------------------------------------------------------------------\u001b[0m",
      "\u001b[1;31mForbidden\u001b[0m                                 Traceback (most recent call last)",
      "Cell \u001b[1;32mIn[86], line 9\u001b[0m\n\u001b[0;32m      6\u001b[0m tweets \u001b[38;5;241m=\u001b[39m tweepy\u001b[38;5;241m.\u001b[39mCursor(api\u001b[38;5;241m.\u001b[39msearch_tweets, q\u001b[38;5;241m=\u001b[39msearch_query, lang\u001b[38;5;241m=\u001b[39m\u001b[38;5;124m\"\u001b[39m\u001b[38;5;124men\u001b[39m\u001b[38;5;124m\"\u001b[39m)\u001b[38;5;241m.\u001b[39mitems(num_tweets)\n\u001b[0;32m      8\u001b[0m \u001b[38;5;66;03m# Process and print the tweets\u001b[39;00m\n\u001b[1;32m----> 9\u001b[0m \u001b[38;5;28;43;01mfor\u001b[39;49;00m\u001b[43m \u001b[49m\u001b[43mtweet\u001b[49m\u001b[43m \u001b[49m\u001b[38;5;129;43;01min\u001b[39;49;00m\u001b[43m \u001b[49m\u001b[43mtweets\u001b[49m\u001b[43m:\u001b[49m\n\u001b[0;32m     10\u001b[0m \u001b[43m    \u001b[49m\u001b[38;5;28;43mprint\u001b[39;49m\u001b[43m(\u001b[49m\u001b[38;5;124;43mf\u001b[39;49m\u001b[38;5;124;43m\"\u001b[39;49m\u001b[38;5;124;43mTweet by @\u001b[39;49m\u001b[38;5;132;43;01m{\u001b[39;49;00m\u001b[43mtweet\u001b[49m\u001b[38;5;241;43m.\u001b[39;49m\u001b[43muser\u001b[49m\u001b[38;5;241;43m.\u001b[39;49m\u001b[43mscreen_name\u001b[49m\u001b[38;5;132;43;01m}\u001b[39;49;00m\u001b[38;5;124;43m: \u001b[39;49m\u001b[38;5;132;43;01m{\u001b[39;49;00m\u001b[43mtweet\u001b[49m\u001b[38;5;241;43m.\u001b[39;49m\u001b[43mtext\u001b[49m\u001b[38;5;132;43;01m}\u001b[39;49;00m\u001b[38;5;124;43m\"\u001b[39;49m\u001b[43m)\u001b[49m\n\u001b[0;32m     11\u001b[0m \u001b[43m    \u001b[49m\u001b[38;5;28;43mprint\u001b[39;49m\u001b[43m(\u001b[49m\u001b[38;5;124;43mf\u001b[39;49m\u001b[38;5;124;43m\"\u001b[39;49m\u001b[38;5;124;43mCreated at: \u001b[39;49m\u001b[38;5;132;43;01m{\u001b[39;49;00m\u001b[43mtweet\u001b[49m\u001b[38;5;241;43m.\u001b[39;49m\u001b[43mcreated_at\u001b[49m\u001b[38;5;132;43;01m}\u001b[39;49;00m\u001b[38;5;124;43m\"\u001b[39;49m\u001b[43m)\u001b[49m\n",
      "File \u001b[1;32m~\\anaconda3\\Lib\\site-packages\\tweepy\\cursor.py:86\u001b[0m, in \u001b[0;36mBaseIterator.__next__\u001b[1;34m(self)\u001b[0m\n\u001b[0;32m     85\u001b[0m \u001b[38;5;28;01mdef\u001b[39;00m \u001b[38;5;21m__next__\u001b[39m(\u001b[38;5;28mself\u001b[39m):\n\u001b[1;32m---> 86\u001b[0m     \u001b[38;5;28;01mreturn\u001b[39;00m \u001b[38;5;28;43mself\u001b[39;49m\u001b[38;5;241;43m.\u001b[39;49m\u001b[43mnext\u001b[49m\u001b[43m(\u001b[49m\u001b[43m)\u001b[49m\n",
      "File \u001b[1;32m~\\anaconda3\\Lib\\site-packages\\tweepy\\cursor.py:286\u001b[0m, in \u001b[0;36mItemIterator.next\u001b[1;34m(self)\u001b[0m\n\u001b[0;32m    283\u001b[0m     \u001b[38;5;28;01mraise\u001b[39;00m \u001b[38;5;167;01mStopIteration\u001b[39;00m\n\u001b[0;32m    284\u001b[0m \u001b[38;5;28;01mif\u001b[39;00m \u001b[38;5;28mself\u001b[39m\u001b[38;5;241m.\u001b[39mcurrent_page \u001b[38;5;129;01mis\u001b[39;00m \u001b[38;5;28;01mNone\u001b[39;00m \u001b[38;5;129;01mor\u001b[39;00m \u001b[38;5;28mself\u001b[39m\u001b[38;5;241m.\u001b[39mpage_index \u001b[38;5;241m==\u001b[39m \u001b[38;5;28mlen\u001b[39m(\u001b[38;5;28mself\u001b[39m\u001b[38;5;241m.\u001b[39mcurrent_page) \u001b[38;5;241m-\u001b[39m \u001b[38;5;241m1\u001b[39m:\n\u001b[0;32m    285\u001b[0m     \u001b[38;5;66;03m# Reached end of current page, get the next page...\u001b[39;00m\n\u001b[1;32m--> 286\u001b[0m     \u001b[38;5;28mself\u001b[39m\u001b[38;5;241m.\u001b[39mcurrent_page \u001b[38;5;241m=\u001b[39m \u001b[38;5;28;43mnext\u001b[39;49m\u001b[43m(\u001b[49m\u001b[38;5;28;43mself\u001b[39;49m\u001b[38;5;241;43m.\u001b[39;49m\u001b[43mpage_iterator\u001b[49m\u001b[43m)\u001b[49m\n\u001b[0;32m    287\u001b[0m     \u001b[38;5;28;01mwhile\u001b[39;00m \u001b[38;5;28mlen\u001b[39m(\u001b[38;5;28mself\u001b[39m\u001b[38;5;241m.\u001b[39mcurrent_page) \u001b[38;5;241m==\u001b[39m \u001b[38;5;241m0\u001b[39m:\n\u001b[0;32m    288\u001b[0m         \u001b[38;5;28mself\u001b[39m\u001b[38;5;241m.\u001b[39mcurrent_page \u001b[38;5;241m=\u001b[39m \u001b[38;5;28mnext\u001b[39m(\u001b[38;5;28mself\u001b[39m\u001b[38;5;241m.\u001b[39mpage_iterator)\n",
      "File \u001b[1;32m~\\anaconda3\\Lib\\site-packages\\tweepy\\cursor.py:86\u001b[0m, in \u001b[0;36mBaseIterator.__next__\u001b[1;34m(self)\u001b[0m\n\u001b[0;32m     85\u001b[0m \u001b[38;5;28;01mdef\u001b[39;00m \u001b[38;5;21m__next__\u001b[39m(\u001b[38;5;28mself\u001b[39m):\n\u001b[1;32m---> 86\u001b[0m     \u001b[38;5;28;01mreturn\u001b[39;00m \u001b[38;5;28;43mself\u001b[39;49m\u001b[38;5;241;43m.\u001b[39;49m\u001b[43mnext\u001b[49m\u001b[43m(\u001b[49m\u001b[43m)\u001b[49m\n",
      "File \u001b[1;32m~\\anaconda3\\Lib\\site-packages\\tweepy\\cursor.py:167\u001b[0m, in \u001b[0;36mIdIterator.next\u001b[1;34m(self)\u001b[0m\n\u001b[0;32m    164\u001b[0m     \u001b[38;5;28;01mraise\u001b[39;00m \u001b[38;5;167;01mStopIteration\u001b[39;00m\n\u001b[0;32m    166\u001b[0m \u001b[38;5;28;01mif\u001b[39;00m \u001b[38;5;28mself\u001b[39m\u001b[38;5;241m.\u001b[39mindex \u001b[38;5;241m>\u001b[39m\u001b[38;5;241m=\u001b[39m \u001b[38;5;28mlen\u001b[39m(\u001b[38;5;28mself\u001b[39m\u001b[38;5;241m.\u001b[39mresults) \u001b[38;5;241m-\u001b[39m \u001b[38;5;241m1\u001b[39m:\n\u001b[1;32m--> 167\u001b[0m     data \u001b[38;5;241m=\u001b[39m \u001b[38;5;28;43mself\u001b[39;49m\u001b[38;5;241;43m.\u001b[39;49m\u001b[43mmethod\u001b[49m\u001b[43m(\u001b[49m\u001b[43mmax_id\u001b[49m\u001b[38;5;241;43m=\u001b[39;49m\u001b[38;5;28;43mself\u001b[39;49m\u001b[38;5;241;43m.\u001b[39;49m\u001b[43mmax_id\u001b[49m\u001b[43m,\u001b[49m\u001b[43m \u001b[49m\u001b[43mparser\u001b[49m\u001b[38;5;241;43m=\u001b[39;49m\u001b[43mRawParser\u001b[49m\u001b[43m(\u001b[49m\u001b[43m)\u001b[49m\u001b[43m,\u001b[49m\u001b[43m \u001b[49m\u001b[38;5;241;43m*\u001b[39;49m\u001b[38;5;28;43mself\u001b[39;49m\u001b[38;5;241;43m.\u001b[39;49m\u001b[43margs\u001b[49m\u001b[43m,\u001b[49m\u001b[43m \u001b[49m\u001b[38;5;241;43m*\u001b[39;49m\u001b[38;5;241;43m*\u001b[39;49m\u001b[38;5;28;43mself\u001b[39;49m\u001b[38;5;241;43m.\u001b[39;49m\u001b[43mkwargs\u001b[49m\u001b[43m)\u001b[49m\n\u001b[0;32m    169\u001b[0m     model \u001b[38;5;241m=\u001b[39m ModelParser()\u001b[38;5;241m.\u001b[39mparse(\n\u001b[0;32m    170\u001b[0m         data, api \u001b[38;5;241m=\u001b[39m \u001b[38;5;28mself\u001b[39m\u001b[38;5;241m.\u001b[39mmethod\u001b[38;5;241m.\u001b[39m\u001b[38;5;18m__self__\u001b[39m,\n\u001b[0;32m    171\u001b[0m         payload_list\u001b[38;5;241m=\u001b[39m\u001b[38;5;28mself\u001b[39m\u001b[38;5;241m.\u001b[39mmethod\u001b[38;5;241m.\u001b[39mpayload_list,\n\u001b[0;32m    172\u001b[0m         payload_type\u001b[38;5;241m=\u001b[39m\u001b[38;5;28mself\u001b[39m\u001b[38;5;241m.\u001b[39mmethod\u001b[38;5;241m.\u001b[39mpayload_type\n\u001b[0;32m    173\u001b[0m     )\n\u001b[0;32m    174\u001b[0m     result \u001b[38;5;241m=\u001b[39m \u001b[38;5;28mself\u001b[39m\u001b[38;5;241m.\u001b[39mmethod\u001b[38;5;241m.\u001b[39m\u001b[38;5;18m__self__\u001b[39m\u001b[38;5;241m.\u001b[39mparser\u001b[38;5;241m.\u001b[39mparse(\n\u001b[0;32m    175\u001b[0m         data, api \u001b[38;5;241m=\u001b[39m \u001b[38;5;28mself\u001b[39m\u001b[38;5;241m.\u001b[39mmethod\u001b[38;5;241m.\u001b[39m\u001b[38;5;18m__self__\u001b[39m,\n\u001b[0;32m    176\u001b[0m         payload_list\u001b[38;5;241m=\u001b[39m\u001b[38;5;28mself\u001b[39m\u001b[38;5;241m.\u001b[39mmethod\u001b[38;5;241m.\u001b[39mpayload_list,\n\u001b[0;32m    177\u001b[0m         payload_type\u001b[38;5;241m=\u001b[39m\u001b[38;5;28mself\u001b[39m\u001b[38;5;241m.\u001b[39mmethod\u001b[38;5;241m.\u001b[39mpayload_type\n\u001b[0;32m    178\u001b[0m     )\n",
      "File \u001b[1;32m~\\anaconda3\\Lib\\site-packages\\tweepy\\api.py:33\u001b[0m, in \u001b[0;36mpagination.<locals>.decorator.<locals>.wrapper\u001b[1;34m(*args, **kwargs)\u001b[0m\n\u001b[0;32m     31\u001b[0m \u001b[38;5;129m@functools\u001b[39m\u001b[38;5;241m.\u001b[39mwraps(method)\n\u001b[0;32m     32\u001b[0m \u001b[38;5;28;01mdef\u001b[39;00m \u001b[38;5;21mwrapper\u001b[39m(\u001b[38;5;241m*\u001b[39margs, \u001b[38;5;241m*\u001b[39m\u001b[38;5;241m*\u001b[39mkwargs):\n\u001b[1;32m---> 33\u001b[0m     \u001b[38;5;28;01mreturn\u001b[39;00m \u001b[43mmethod\u001b[49m\u001b[43m(\u001b[49m\u001b[38;5;241;43m*\u001b[39;49m\u001b[43margs\u001b[49m\u001b[43m,\u001b[49m\u001b[43m \u001b[49m\u001b[38;5;241;43m*\u001b[39;49m\u001b[38;5;241;43m*\u001b[39;49m\u001b[43mkwargs\u001b[49m\u001b[43m)\u001b[49m\n",
      "File \u001b[1;32m~\\anaconda3\\Lib\\site-packages\\tweepy\\api.py:46\u001b[0m, in \u001b[0;36mpayload.<locals>.decorator.<locals>.wrapper\u001b[1;34m(*args, **kwargs)\u001b[0m\n\u001b[0;32m     44\u001b[0m kwargs[\u001b[38;5;124m'\u001b[39m\u001b[38;5;124mpayload_list\u001b[39m\u001b[38;5;124m'\u001b[39m] \u001b[38;5;241m=\u001b[39m payload_list\n\u001b[0;32m     45\u001b[0m kwargs[\u001b[38;5;124m'\u001b[39m\u001b[38;5;124mpayload_type\u001b[39m\u001b[38;5;124m'\u001b[39m] \u001b[38;5;241m=\u001b[39m payload_type\n\u001b[1;32m---> 46\u001b[0m \u001b[38;5;28;01mreturn\u001b[39;00m \u001b[43mmethod\u001b[49m\u001b[43m(\u001b[49m\u001b[38;5;241;43m*\u001b[39;49m\u001b[43margs\u001b[49m\u001b[43m,\u001b[49m\u001b[43m \u001b[49m\u001b[38;5;241;43m*\u001b[39;49m\u001b[38;5;241;43m*\u001b[39;49m\u001b[43mkwargs\u001b[49m\u001b[43m)\u001b[49m\n",
      "File \u001b[1;32m~\\anaconda3\\Lib\\site-packages\\tweepy\\api.py:1146\u001b[0m, in \u001b[0;36mAPI.search_tweets\u001b[1;34m(self, q, **kwargs)\u001b[0m\n\u001b[0;32m   1052\u001b[0m \u001b[38;5;129m@pagination\u001b[39m(mode\u001b[38;5;241m=\u001b[39m\u001b[38;5;124m'\u001b[39m\u001b[38;5;124mid\u001b[39m\u001b[38;5;124m'\u001b[39m)\n\u001b[0;32m   1053\u001b[0m \u001b[38;5;129m@payload\u001b[39m(\u001b[38;5;124m'\u001b[39m\u001b[38;5;124msearch_results\u001b[39m\u001b[38;5;124m'\u001b[39m)\n\u001b[0;32m   1054\u001b[0m \u001b[38;5;28;01mdef\u001b[39;00m \u001b[38;5;21msearch_tweets\u001b[39m(\u001b[38;5;28mself\u001b[39m, q, \u001b[38;5;241m*\u001b[39m\u001b[38;5;241m*\u001b[39mkwargs):\n\u001b[0;32m   1055\u001b[0m \u001b[38;5;250m    \u001b[39m\u001b[38;5;124;03m\"\"\"search_tweets(q, *, geocode, lang, locale, result_type, count, \\\u001b[39;00m\n\u001b[0;32m   1056\u001b[0m \u001b[38;5;124;03m                     until, since_id, max_id, include_entities)\u001b[39;00m\n\u001b[0;32m   1057\u001b[0m \n\u001b[1;32m   (...)\u001b[0m\n\u001b[0;32m   1144\u001b[0m \u001b[38;5;124;03m    .. _Twitter's documentation on the standard search API: https://developer.twitter.com/en/docs/twitter-api/v1/tweets/search/overview\u001b[39;00m\n\u001b[0;32m   1145\u001b[0m \u001b[38;5;124;03m    \"\"\"\u001b[39;00m\n\u001b[1;32m-> 1146\u001b[0m     \u001b[38;5;28;01mreturn\u001b[39;00m \u001b[38;5;28;43mself\u001b[39;49m\u001b[38;5;241;43m.\u001b[39;49m\u001b[43mrequest\u001b[49m\u001b[43m(\u001b[49m\n\u001b[0;32m   1147\u001b[0m \u001b[43m        \u001b[49m\u001b[38;5;124;43m'\u001b[39;49m\u001b[38;5;124;43mGET\u001b[39;49m\u001b[38;5;124;43m'\u001b[39;49m\u001b[43m,\u001b[49m\u001b[43m \u001b[49m\u001b[38;5;124;43m'\u001b[39;49m\u001b[38;5;124;43msearch/tweets\u001b[39;49m\u001b[38;5;124;43m'\u001b[39;49m\u001b[43m,\u001b[49m\u001b[43m \u001b[49m\u001b[43mendpoint_parameters\u001b[49m\u001b[38;5;241;43m=\u001b[39;49m\u001b[43m(\u001b[49m\n\u001b[0;32m   1148\u001b[0m \u001b[43m            \u001b[49m\u001b[38;5;124;43m'\u001b[39;49m\u001b[38;5;124;43mq\u001b[39;49m\u001b[38;5;124;43m'\u001b[39;49m\u001b[43m,\u001b[49m\u001b[43m \u001b[49m\u001b[38;5;124;43m'\u001b[39;49m\u001b[38;5;124;43mgeocode\u001b[39;49m\u001b[38;5;124;43m'\u001b[39;49m\u001b[43m,\u001b[49m\u001b[43m \u001b[49m\u001b[38;5;124;43m'\u001b[39;49m\u001b[38;5;124;43mlang\u001b[39;49m\u001b[38;5;124;43m'\u001b[39;49m\u001b[43m,\u001b[49m\u001b[43m \u001b[49m\u001b[38;5;124;43m'\u001b[39;49m\u001b[38;5;124;43mlocale\u001b[39;49m\u001b[38;5;124;43m'\u001b[39;49m\u001b[43m,\u001b[49m\u001b[43m \u001b[49m\u001b[38;5;124;43m'\u001b[39;49m\u001b[38;5;124;43mresult_type\u001b[39;49m\u001b[38;5;124;43m'\u001b[39;49m\u001b[43m,\u001b[49m\u001b[43m \u001b[49m\u001b[38;5;124;43m'\u001b[39;49m\u001b[38;5;124;43mcount\u001b[39;49m\u001b[38;5;124;43m'\u001b[39;49m\u001b[43m,\u001b[49m\n\u001b[0;32m   1149\u001b[0m \u001b[43m            \u001b[49m\u001b[38;5;124;43m'\u001b[39;49m\u001b[38;5;124;43muntil\u001b[39;49m\u001b[38;5;124;43m'\u001b[39;49m\u001b[43m,\u001b[49m\u001b[43m \u001b[49m\u001b[38;5;124;43m'\u001b[39;49m\u001b[38;5;124;43msince_id\u001b[39;49m\u001b[38;5;124;43m'\u001b[39;49m\u001b[43m,\u001b[49m\u001b[43m \u001b[49m\u001b[38;5;124;43m'\u001b[39;49m\u001b[38;5;124;43mmax_id\u001b[39;49m\u001b[38;5;124;43m'\u001b[39;49m\u001b[43m,\u001b[49m\u001b[43m \u001b[49m\u001b[38;5;124;43m'\u001b[39;49m\u001b[38;5;124;43minclude_entities\u001b[39;49m\u001b[38;5;124;43m'\u001b[39;49m\n\u001b[0;32m   1150\u001b[0m \u001b[43m        \u001b[49m\u001b[43m)\u001b[49m\u001b[43m,\u001b[49m\u001b[43m \u001b[49m\u001b[43mq\u001b[49m\u001b[38;5;241;43m=\u001b[39;49m\u001b[43mq\u001b[49m\u001b[43m,\u001b[49m\u001b[43m \u001b[49m\u001b[38;5;241;43m*\u001b[39;49m\u001b[38;5;241;43m*\u001b[39;49m\u001b[43mkwargs\u001b[49m\n\u001b[0;32m   1151\u001b[0m \u001b[43m    \u001b[49m\u001b[43m)\u001b[49m\n",
      "File \u001b[1;32m~\\anaconda3\\Lib\\site-packages\\tweepy\\api.py:271\u001b[0m, in \u001b[0;36mAPI.request\u001b[1;34m(self, method, endpoint, endpoint_parameters, params, headers, json_payload, parser, payload_list, payload_type, post_data, files, require_auth, return_cursors, upload_api, use_cache, **kwargs)\u001b[0m\n\u001b[0;32m    269\u001b[0m     \u001b[38;5;28;01mraise\u001b[39;00m Unauthorized(resp)\n\u001b[0;32m    270\u001b[0m \u001b[38;5;28;01mif\u001b[39;00m resp\u001b[38;5;241m.\u001b[39mstatus_code \u001b[38;5;241m==\u001b[39m \u001b[38;5;241m403\u001b[39m:\n\u001b[1;32m--> 271\u001b[0m     \u001b[38;5;28;01mraise\u001b[39;00m Forbidden(resp)\n\u001b[0;32m    272\u001b[0m \u001b[38;5;28;01mif\u001b[39;00m resp\u001b[38;5;241m.\u001b[39mstatus_code \u001b[38;5;241m==\u001b[39m \u001b[38;5;241m404\u001b[39m:\n\u001b[0;32m    273\u001b[0m     \u001b[38;5;28;01mraise\u001b[39;00m NotFound(resp)\n",
      "\u001b[1;31mForbidden\u001b[0m: 403 Forbidden\n453 - You currently have access to a subset of Twitter API v2 endpoints and limited v1.1 endpoints (e.g. media post, oauth) only. If you need access to this endpoint, you may need a different access level. You can learn more here: https://developer.twitter.com/en/portal/product"
     ]
    }
   ],
   "source": [
    "# Define the search query and the number of tweets to retrieve\n",
    "search_query = \"Nike\"  # Replace with your sports brand of interest\n",
    "num_tweets = 100\n",
    "\n",
    "# Search for tweets\n",
    "tweets = tweepy.Cursor(api.search_tweets, q=search_query, lang=\"en\").items(num_tweets)\n",
    "\n",
    "# Process and print the tweets\n",
    "for tweet in tweets:\n",
    "    print(f\"Tweet by @{tweet.user.screen_name}: {tweet.text}\")\n",
    "    print(f\"Created at: {tweet.created_at}\")\n",
    "    print(f\"Retweets: {tweet.retweet_count}, Likes: {tweet.favorite_count}\")\n",
    "    print(\"-\" * 40)\n"
   ]
  },
  {
   "cell_type": "code",
   "execution_count": null,
   "metadata": {},
   "outputs": [],
   "source": [
    "import csv\n",
    "\n",
    "# Open/Create a file to append data\n",
    "csvFile = open('tweets.csv', 'a', newline='', encoding='utf-8')\n",
    "\n",
    "# Use csv writer\n",
    "csvWriter = csv.writer(csvFile)\n",
    "\n",
    "# Write headers\n",
    "csvWriter.writerow(['Username', 'Tweet', 'Created At', 'Retweets', 'Likes'])\n",
    "\n",
    "# Collect and write tweet data\n",
    "for tweet in tweets:\n",
    "    csvWriter.writerow([tweet.user.screen_name, tweet.text, tweet.created_at, tweet.retweet_count, tweet.favorite_count])\n",
    "\n",
    "# Close the file\n",
    "csvFile.close()\n"
   ]
  },
  {
   "cell_type": "code",
   "execution_count": null,
   "metadata": {},
   "outputs": [],
   "source": [
    "# Reddit app"
   ]
  },
  {
   "cell_type": "code",
   "execution_count": 5,
   "metadata": {},
   "outputs": [
    {
     "name": "stdout",
     "output_type": "stream",
     "text": [
      "Collecting praw\n",
      "  Downloading praw-7.7.1-py3-none-any.whl.metadata (9.8 kB)\n",
      "Collecting prawcore<3,>=2.1 (from praw)\n",
      "  Downloading prawcore-2.4.0-py3-none-any.whl.metadata (5.0 kB)\n",
      "Collecting update-checker>=0.18 (from praw)\n",
      "  Downloading update_checker-0.18.0-py3-none-any.whl.metadata (2.3 kB)\n",
      "Requirement already satisfied: websocket-client>=0.54.0 in c:\\users\\user\\anaconda3\\lib\\site-packages (from praw) (0.58.0)\n",
      "Requirement already satisfied: requests<3.0,>=2.6.0 in c:\\users\\user\\anaconda3\\lib\\site-packages (from prawcore<3,>=2.1->praw) (2.31.0)\n",
      "Requirement already satisfied: six in c:\\users\\user\\appdata\\roaming\\python\\python311\\site-packages (from websocket-client>=0.54.0->praw) (1.16.0)\n",
      "Requirement already satisfied: charset-normalizer<4,>=2 in c:\\users\\user\\anaconda3\\lib\\site-packages (from requests<3.0,>=2.6.0->prawcore<3,>=2.1->praw) (2.0.4)\n",
      "Requirement already satisfied: idna<4,>=2.5 in c:\\users\\user\\anaconda3\\lib\\site-packages (from requests<3.0,>=2.6.0->prawcore<3,>=2.1->praw) (3.4)\n",
      "Requirement already satisfied: urllib3<3,>=1.21.1 in c:\\users\\user\\anaconda3\\lib\\site-packages (from requests<3.0,>=2.6.0->prawcore<3,>=2.1->praw) (2.0.7)\n",
      "Requirement already satisfied: certifi>=2017.4.17 in c:\\users\\user\\anaconda3\\lib\\site-packages (from requests<3.0,>=2.6.0->prawcore<3,>=2.1->praw) (2024.7.4)\n",
      "Downloading praw-7.7.1-py3-none-any.whl (191 kB)\n",
      "   ---------------------------------------- 0.0/191.0 kB ? eta -:--:--\n",
      "   -- ------------------------------------- 10.2/191.0 kB ? eta -:--:--\n",
      "   -- ------------------------------------- 10.2/191.0 kB ? eta -:--:--\n",
      "   ------ -------------------------------- 30.7/191.0 kB 330.3 kB/s eta 0:00:01\n",
      "   ------ -------------------------------- 30.7/191.0 kB 330.3 kB/s eta 0:00:01\n",
      "   ------------ -------------------------- 61.4/191.0 kB 273.8 kB/s eta 0:00:01\n",
      "   ---------------- ---------------------- 81.9/191.0 kB 328.8 kB/s eta 0:00:01\n",
      "   ---------------------- --------------- 112.6/191.0 kB 386.4 kB/s eta 0:00:01\n",
      "   ---------------------------- --------- 143.4/191.0 kB 405.9 kB/s eta 0:00:01\n",
      "   ------------------------------------ - 184.3/191.0 kB 464.2 kB/s eta 0:00:01\n",
      "   -------------------------------------- 191.0/191.0 kB 482.0 kB/s eta 0:00:00\n",
      "Downloading prawcore-2.4.0-py3-none-any.whl (17 kB)\n",
      "Downloading update_checker-0.18.0-py3-none-any.whl (7.0 kB)\n",
      "Installing collected packages: update-checker, prawcore, praw\n",
      "Successfully installed praw-7.7.1 prawcore-2.4.0 update-checker-0.18.0\n",
      "Note: you may need to restart the kernel to use updated packages.\n"
     ]
    }
   ],
   "source": [
    "pip install praw"
   ]
  },
  {
   "cell_type": "code",
   "execution_count": 88,
   "metadata": {},
   "outputs": [
    {
     "name": "stdout",
     "output_type": "stream",
     "text": [
      "Authenticated as: Few_Sherbet3041\n"
     ]
    }
   ],
   "source": [
    "import praw\n",
    "\n",
    "# Your Reddit API credentials\n",
    "client_id = 'yMU11cwdnS89e-YA0zrkuw'\n",
    "client_secret = 'sR6izsjIp3W1ZmZAZLY_Btn2oNubKg'\n",
    "user_agent = 'http://localhost:8000'  # Can be any string identifying your app\n",
    "username = 'Few_Sherbet3041'\n",
    "password = 'BrainStation'\n",
    "\n",
    "# Initialize Reddit instance\n",
    "reddit = praw.Reddit(\n",
    "    client_id=client_id,\n",
    "    client_secret=client_secret,\n",
    "    user_agent=user_agent,\n",
    "    username=username,\n",
    "    password=password\n",
    ")\n",
    "\n",
    "# Test the connection by fetching your own Reddit user data\n",
    "user = reddit.user.me()\n",
    "print(f\"Authenticated as: {user}\")"
   ]
  },
  {
   "cell_type": "code",
   "execution_count": 90,
   "metadata": {},
   "outputs": [
    {
     "name": "stdout",
     "output_type": "stream",
     "text": [
      "Title: Nike ends Relationship With Kyrie Irving\n",
      "Score: 16710\n",
      "Subreddit: sports\n",
      "URL: https://www.espn.com/nba/story/_/id/34994728/nike-relationship-kyrie-irving-likely-phil-knight-says\n",
      "Posted by: boredgmr1\n",
      "Number of Comments: 626\n",
      "----------------------------------------\n",
      "Title: Can't ruin the Nikes!\n",
      "Score: 16817\n",
      "Subreddit: sports\n",
      "URL: http://i.imgur.com/fVELm7a.gifv\n",
      "Posted by: homefree122\n",
      "Number of Comments: 650\n",
      "----------------------------------------\n",
      "Title: Nike jerseys not off to a great start\n",
      "Score: 32255\n",
      "Subreddit: sports\n",
      "URL: https://i.imgur.com/VLgcSMr.jpg\n",
      "Posted by: GuacamoleFanatic\n",
      "Number of Comments: 1074\n",
      "----------------------------------------\n",
      "Title: Nike’s 30th anniversary of the Just Do It campaign\n",
      "Score: 57058\n",
      "Subreddit: sports\n",
      "URL: https://i.redd.it/uemednb0z2k11.jpg\n",
      "Posted by: teeseoncoast\n",
      "Number of Comments: 4924\n",
      "----------------------------------------\n",
      "Title: Caitlin Clark nearing endorsement deal with Nike: Sources\n",
      "Score: 1392\n",
      "Subreddit: sports\n",
      "URL: https://theathletic.com/5424729/2024/04/17/caitlin-clark-nike-endorsement-indiana-fever-wnba/\n",
      "Posted by: BCLetsRide69\n",
      "Number of Comments: 155\n",
      "----------------------------------------\n",
      "Title: Tiger Woods Announces the End of His Longtime Partnership With Nike\n",
      "Score: 1886\n",
      "Subreddit: sports\n",
      "URL: https://www.si.com/golf/news/tiger-woods-announces-end-longtime-partnership-nike\n",
      "Posted by: PrincessBananas85\n",
      "Number of Comments: 182\n",
      "----------------------------------------\n",
      "Title: Nike supports Naomi Osaka after stunning French Open withdrawal\n",
      "Score: 3716\n",
      "Subreddit: sports\n",
      "URL: https://www.usatoday.com/story/sports/tennis/2021/06/01/nike-supports-naomi-osaka-after-tennis-star-withdraws-french-open/5288752001/\n",
      "Posted by: quirkycurlygirly\n",
      "Number of Comments: 365\n",
      "----------------------------------------\n",
      "Title: Simone Biles drops Nike and signs with Athleta\n",
      "Score: 2964\n",
      "Subreddit: sports\n",
      "URL: https://www.cnn.com/2021/04/23/business/simone-biles-nike-gap-athleta/index.html\n",
      "Posted by: williamb100\n",
      "Number of Comments: 218\n",
      "----------------------------------------\n",
      "Title: NIKE may be implicated in FIFA scandal.\n",
      "Score: 2643\n",
      "Subreddit: sports\n",
      "URL: http://www.bloomberg.com/news/articles/2015-05-27/nike-s-deal-seems-to-track-u-s-claim-of-fifa-bribery-in-brazil-ia73w47c\n",
      "Posted by: Jade_Pornsurge\n",
      "Number of Comments: 373\n",
      "----------------------------------------\n",
      "Title: Nike Vaporfly shoes are not banned at the Olympic Games\n",
      "Score: 1722\n",
      "Subreddit: sports\n",
      "URL: https://www.bbc.com/sport/athletics/51324991\n",
      "Posted by: -acid--rain-\n",
      "Number of Comments: 198\n",
      "----------------------------------------\n",
      "Title: Distance runner Mary Cain files $20M lawsuit against Nike, coach alleging abuse\n",
      "Score: 2243\n",
      "Subreddit: sports\n",
      "URL: https://sports.yahoo.com/distance-runner-mary-cain-files-20-m-lawsuit-against-nike-coach-alleging-abuse-184654505.html\n",
      "Posted by: paulfromatlanta\n",
      "Number of Comments: 165\n",
      "----------------------------------------\n",
      "Title: Nike permanently ends sponsor partnership with Hockey Canada\n",
      "Score: 878\n",
      "Subreddit: sports\n",
      "URL: https://www.espn.com/olympics/hockey/story/_/id/38025293/nike-permanently-ends-sponsor-partnership-hockey-canada\n",
      "Posted by: PrincessBananas85\n",
      "Number of Comments: 64\n",
      "----------------------------------------\n",
      "Title: Nike dumps Lance Armstrong\n",
      "Score: 597\n",
      "Subreddit: sports\n",
      "URL: http://nikeinc.com/press-release/news/nike-statement-on-lance-armstrong\n",
      "Posted by: banterer\n",
      "Number of Comments: 262\n",
      "----------------------------------------\n",
      "Title: Nike, TAG Heuer, Porsche suspend ties with Sharapova\n",
      "Score: 761\n",
      "Subreddit: sports\n",
      "URL: http://www.usatoday.com/story/sports/tennis/2016/03/08/nike-tag-heuer-suspend-ties-sharapova/81469616/\n",
      "Posted by: mickdemi\n",
      "Number of Comments: 316\n",
      "----------------------------------------\n",
      "Title: Nike Nixes ‘Betsy Ross Flag’ Sneaker After Colin Kaepernick Intervenes\n",
      "Score: 403\n",
      "Subreddit: sports\n",
      "URL: https://www.wsj.com/articles/nike-nixes-betsy-ross-flag-sneaker-after-colin-kaepernick-intervenes-11562024126?redirect=amp#click=https://t.co/eKVtPM6oTA\n",
      "Posted by: Swobo_1\n",
      "Number of Comments: 557\n",
      "----------------------------------------\n",
      "Title: Nike, Alberto Salazar settle lawsuit with distance runner Mary Cain\n",
      "Score: 432\n",
      "Subreddit: sports\n",
      "URL: https://www.oregonlive.com/business/2023/11/nike-alberto-salazar-settle-lawsuit-with-distance-runner-mary-cain.html?outputType=amp\n",
      "Posted by: Paxyz\n",
      "Number of Comments: 35\n",
      "----------------------------------------\n",
      "Title: Cleveland Responds To The Lebron James Nike Commercial (VIDEO)\n",
      "Score: 565\n",
      "Subreddit: sports\n",
      "URL: http://www.youtube.com/watch?v=NvgD9HNTMkM&feature=player_embedded\n",
      "Posted by: jda06\n",
      "Number of Comments: 283\n",
      "----------------------------------------\n",
      "Title: Oregon debuts new Nike 2014 uniforms. IMO the best looking uniform in all of football.\n",
      "Score: 638\n",
      "Subreddit: sports\n",
      "URL: http://m.imgur.com/a/V0zdR\n",
      "Posted by: IEvolvedFromAMonkey\n",
      "Number of Comments: 241\n",
      "----------------------------------------\n",
      "Title: President Donald Trump: Nike sending 'terrible message' with Colin Kaepernick partnership\n",
      "Score: 125\n",
      "Subreddit: sports\n",
      "URL: http://www.espn.com/nfl/story/_/id/24579293/president-donald-trump-said-colin-kaepernick-inclusion-nike-ad-campaign-terrible-message\n",
      "Posted by: urfaselol\n",
      "Number of Comments: 170\n",
      "----------------------------------------\n",
      "Title: Nike notes options for track athletes amid uniform backlash\n",
      "Score: 51\n",
      "Subreddit: sports\n",
      "URL: https://www.espn.com/olympics/story/_/id/39935035/nike-notes-options-track-athletes-amid-uniform-backlash\n",
      "Posted by: PrincessBananas85\n",
      "Number of Comments: 1\n",
      "----------------------------------------\n",
      "Title: The NFL suspended Ray Rice indefinitely, and NIKE dropped Peterson. Meanwhile Hope Solo continues to play professional soccer and be sponsored by NIKE, despite being arrested and charged on 2 domestic violence charges back in June.\n",
      "Score: 457\n",
      "Subreddit: sports\n",
      "URL: http://www.washingtonpost.com/blogs/early-lead/wp/2014/09/19/hope-solo-and-the-domestic-violence-case-no-one-is-talking-about/\n",
      "Posted by: Rawtashk\n",
      "Number of Comments: 82\n",
      "----------------------------------------\n",
      "Title: Michael Avenatti arrested for alleged $20 million extortion attempt against Nike\n",
      "Score: 251\n",
      "Subreddit: sports\n",
      "URL: https://www.cnbc.com/2019/03/25/michael-avenatti-to-be-charged-with-wire-and-bank-fraud.html\n",
      "Posted by: tycrew\n",
      "Number of Comments: 44\n",
      "----------------------------------------\n",
      "Title: Nike takes out full page ad for Dirk in Dallas Morning News.\n",
      "Score: 287\n",
      "Subreddit: sports\n",
      "URL: http://www.sportsgrid.com/nba/nike-dirk-nowitzki-epic-ad-photo/\n",
      "Posted by: runthepoint\n",
      "Number of Comments: 75\n",
      "----------------------------------------\n",
      "Title: South Park spoofs LeBron's Nike commercial\n",
      "Score: 158\n",
      "Subreddit: sports\n",
      "URL: http://www.southparkstudios.com/clips/360451/what-should-i-do\n",
      "Posted by: danchan22\n",
      "Number of Comments: 64\n",
      "----------------------------------------\n",
      "Title: Nike says it supports athletes' boycotts\n",
      "Score: 63\n",
      "Subreddit: sports\n",
      "URL: https://www.cnn.com/2020/08/27/business/nike-player-boycotts/index.html\n",
      "Posted by: BobbingForSmegma\n",
      "Number of Comments: 22\n",
      "----------------------------------------\n",
      "Title: Nike Pro Hijab released by Nike\n",
      "Score: 26\n",
      "Subreddit: sports\n",
      "URL: https://www.racked.com/2017/12/7/16739404/nike-pro-hijab-muslim-athletes\n",
      "Posted by: sgong33\n",
      "Number of Comments: 13\n",
      "----------------------------------------\n",
      "Title: Nike introduces 'Pro Hijab' for Muslim female athletes\n",
      "Score: 26\n",
      "Subreddit: sports\n",
      "URL: http://www.mlive.com/news/detroit/index.ssf/2017/03/nike_hijab.html#incart_m-rpt-2\n",
      "Posted by: ballb33\n",
      "Number of Comments: 51\n",
      "----------------------------------------\n",
      "Title: Nike's Ad After Tiger's Master Win: \"Never stop chasing your crazy dream, I'm gonna beat Jack Nicklaus\"\n",
      "Score: 266\n",
      "Subreddit: sports\n",
      "URL: https://streamable.com/gfbf5\n",
      "Posted by: gubbsbe\n",
      "Number of Comments: 39\n",
      "----------------------------------------\n",
      "Title: I do not like Lebron James. But his new Nike commercial is pretty amazing.\n",
      "Score: 117\n",
      "Subreddit: sports\n",
      "URL: http://www.youtube.com/watch?v=cdtejCR413c\n",
      "Posted by: jasonmb17\n",
      "Number of Comments: 81\n",
      "----------------------------------------\n",
      "Title: Brilliant new Nike Soccer commercial\n",
      "Score: 88\n",
      "Subreddit: sports\n",
      "URL: http://www.youtube.com/watch?v=3XviR7esUvo#t=120\n",
      "Posted by: crobaby\n",
      "Number of Comments: 29\n",
      "----------------------------------------\n",
      "Title: Nike says it split with Neymar over sexual assault investigation\n",
      "Score: 24\n",
      "Subreddit: sports\n",
      "URL: https://www.bbc.com/news/world-us-canada-57278258\n",
      "Posted by: Monster_Chief17\n",
      "Number of Comments: 18\n",
      "----------------------------------------\n",
      "Title: This inspirational Nike ad gave me goosebumps. Can anyone find a higher-quality version of it?\n",
      "Score: 153\n",
      "Subreddit: sports\n",
      "URL: http://www.youtube.com/watch?v=niHSWYE-PLI\n",
      "Posted by: drjohndorian\n",
      "Number of Comments: 70\n",
      "----------------------------------------\n",
      "Title: Yuto Horigome performs the smoothest skateboarding trick\n",
      "Score: 6888\n",
      "Subreddit: sports\n",
      "URL: https://v.redd.it/mbix1tpqgmid1\n",
      "Posted by: TheGrapeRaper\n",
      "Number of Comments: 401\n",
      "----------------------------------------\n",
      "Title: nike does not want you to see lebron james being dunked on\n",
      "Score: 148\n",
      "Subreddit: sports\n",
      "URL: http://www.cbssports.com/mcc/blogs/entry/6271764/15942689\n",
      "Posted by: uracab\n",
      "Number of Comments: 48\n",
      "----------------------------------------\n",
      "Title: CR7 certainly knew. Nike didn't know better, though.\n",
      "Score: 129\n",
      "Subreddit: sports\n",
      "URL: https://i.redd.it/8601gfym6u1z.jpg\n",
      "Posted by: ethrael237\n",
      "Number of Comments: 20\n",
      "----------------------------------------\n",
      "Title: How Nike broke running\n",
      "Score: 21\n",
      "Subreddit: sports\n",
      "URL: https://www.wired.co.uk/article/nike-vaporfly-shoes\n",
      "Posted by: section43\n",
      "Number of Comments: 3\n",
      "----------------------------------------\n",
      "Title: Duke University investigating claim that Zion Williamson's mother was paid by Nike\n",
      "Score: 67\n",
      "Subreddit: sports\n",
      "URL: http://www.usatoday.com/story/sports/ncaab/2019/04/06/duke-investigating-claim-nike-payment-zion-williamson-mother/3388357002/\n",
      "Posted by: JockBbcBoy\n",
      "Number of Comments: 20\n",
      "----------------------------------------\n",
      "Title: The Emotions of the Paris 2024 Olympics\n",
      "Score: 3603\n",
      "Subreddit: sports\n",
      "URL: https://v.redd.it/7h81wtft9gid1\n",
      "Posted by: AlberGaming\n",
      "Number of Comments: 160\n",
      "----------------------------------------\n",
      "Title: [Redskins Today] It appears that Nike has removed all Redskins clothing from their website. If you go to Nike’s website, they have apparel for all the NFL teams currently; except for Washington.\n",
      "Score: 20\n",
      "Subreddit: sports\n",
      "URL: https://twitter.com/redskinstoday_/status/1278852300363235328?s=21\n",
      "Posted by: magicsoakedinmyspine\n",
      "Number of Comments: 13\n",
      "----------------------------------------\n",
      "Title: Kareem Abdul-Jabbar Slams LeBron James for His 'Uninformed' COVID Meme: A 'Blow' to His 'Legacy'\n",
      "Score: 29872\n",
      "Subreddit: sports\n",
      "URL: https://people.com/sports/kareem-abdul-jabbar-slams-lebron-james-for-his-uninformed-covid-meme-a-blow-to-his-legacy/\n",
      "Posted by: Defiant_Race_7544\n",
      "Number of Comments: 2098\n",
      "----------------------------------------\n",
      "Title: Nike's best football/soccer commercial \n",
      "Score: 55\n",
      "Subreddit: sports\n",
      "URL: http://www.youtube.com/watch?v=dBZtHAVvslQ\n",
      "Posted by: AJS1991\n",
      "Number of Comments: 20\n",
      "----------------------------------------\n",
      "Title: Nike Launches New MLB “City Connect” Uniform Series for 2021\n",
      "Score: 4\n",
      "Subreddit: sports\n",
      "URL: https://news.sportslogos.net/2021/04/06/red-sox-wear-yellow-nike-launches-new-mlb-city-connect-uniform-series-for-2021/baseball/\n",
      "Posted by: heroicraptor\n",
      "Number of Comments: 6\n",
      "----------------------------------------\n",
      "Title: All of the new NFL jerseys from Nike\n",
      "Score: 57\n",
      "Subreddit: sports\n",
      "URL: http://store.nike.com/us/en_us/?l=shop,nfl\n",
      "Posted by: jerseyboyji\n",
      "Number of Comments: 27\n",
      "----------------------------------------\n",
      "Title: I Was the Fastest Girl in America, Until I Joined Nike\n",
      "Score: 56\n",
      "Subreddit: sports\n",
      "URL: https://www.nytimes.com/2019/11/07/opinion/nike-running-mary-cain.html\n",
      "Posted by: handlit33\n",
      "Number of Comments: 11\n",
      "----------------------------------------\n",
      "Title: Nike tribute to Kobe Bryant\n",
      "Score: 17\n",
      "Subreddit: sports\n",
      "URL: https://twitter.com/nike/status/1232002271266758661?s=21\n",
      "Posted by: crispy_critter\n",
      "Number of Comments: 1\n",
      "----------------------------------------\n",
      "Title: At 16, Larry Miller killed another teen. At 72, the Nike executive is ready to apologize\n",
      "Score: 0\n",
      "Subreddit: sports\n",
      "URL: https://www.cnn.com/2022/02/20/us/philadelphia-larry-miller-edward-white/index.html\n",
      "Posted by: designgoddess\n",
      "Number of Comments: 8\n",
      "----------------------------------------\n",
      "Title: Nike Vaporfly shoes are not banned at the Olympic Games\n",
      "Score: 15\n",
      "Subreddit: sports\n",
      "URL: https://www.bbc.com/sport/athletics/51324991\n",
      "Posted by: Gaming_Thipje\n",
      "Number of Comments: 10\n",
      "----------------------------------------\n",
      "Title: Nike Claims 31 out of 36 Podium Placements in 2019 World Marathon Majors\n",
      "Score: 21\n",
      "Subreddit: sports\n",
      "URL: https://i.redd.it/oj8c1gdyzvw31.png\n",
      "Posted by: thomasmagnum\n",
      "Number of Comments: 17\n",
      "----------------------------------------\n",
      "Title: Olympian Allyson Felix Says Nike Was 'Disrespectful' During Maternity-Protections Dispute\n",
      "Score: 20\n",
      "Subreddit: sports\n",
      "URL: https://www.insider.com/olympian-allyson-felix-criticizes-nike-maternity-protections-dispute-2021-7\n",
      "Posted by: lurker_bee\n",
      "Number of Comments: 0\n",
      "----------------------------------------\n",
      "Title: Nike says it will stop making golf equipment\n",
      "Score: 33\n",
      "Subreddit: sports\n",
      "URL: http://www.espn.com/golf/story/_/id/17212815/nike-announces-exit-golf-equipment-business&ex_cid=sportscenterTW?sf32457432=1\n",
      "Posted by: rapidrecliner21\n",
      "Number of Comments: 14\n",
      "----------------------------------------\n"
     ]
    }
   ],
   "source": [
    "# Choose a subreddit and search query\n",
    "subreddit_name = 'sports'  # Replace with the subreddit you're interested in\n",
    "search_query = 'Nike'  # Replace with your sports brand of interest\n",
    "num_posts = 50\n",
    "\n",
    "# Access the subreddit\n",
    "subreddit = reddit.subreddit(subreddit_name)\n",
    "\n",
    "# Search for posts\n",
    "posts = subreddit.search(search_query, limit=num_posts)\n",
    "\n",
    "# Process and print the posts\n",
    "for post in posts:\n",
    "    print(f\"Title: {post.title}\")\n",
    "    print(f\"Score: {post.score}\")\n",
    "    print(f\"Subreddit: {post.subreddit}\")\n",
    "    print(f\"URL: {post.url}\")\n",
    "    print(f\"Posted by: {post.author}\")\n",
    "    print(f\"Number of Comments: {post.num_comments}\")\n",
    "    print(\"-\" * 40)\n"
   ]
  },
  {
   "cell_type": "code",
   "execution_count": 23,
   "metadata": {},
   "outputs": [
    {
     "ename": "InvalidURL",
     "evalue": "Invalid URL: https://www.reddit.com/r/sports/comments/example_post/",
     "output_type": "error",
     "traceback": [
      "\u001b[1;31m---------------------------------------------------------------------------\u001b[0m",
      "\u001b[1;31mInvalidURL\u001b[0m                                Traceback (most recent call last)",
      "Cell \u001b[1;32mIn[23], line 5\u001b[0m\n\u001b[0;32m      2\u001b[0m post_url \u001b[38;5;241m=\u001b[39m \u001b[38;5;124m'\u001b[39m\u001b[38;5;124mhttps://www.reddit.com/r/sports/comments/example_post/\u001b[39m\u001b[38;5;124m'\u001b[39m\n\u001b[0;32m      4\u001b[0m \u001b[38;5;66;03m# Get the submission object\u001b[39;00m\n\u001b[1;32m----> 5\u001b[0m submission \u001b[38;5;241m=\u001b[39m \u001b[43mreddit\u001b[49m\u001b[38;5;241;43m.\u001b[39;49m\u001b[43msubmission\u001b[49m\u001b[43m(\u001b[49m\u001b[43murl\u001b[49m\u001b[38;5;241;43m=\u001b[39;49m\u001b[43mpost_url\u001b[49m\u001b[43m)\u001b[49m\n\u001b[0;32m      7\u001b[0m \u001b[38;5;66;03m# Print submission details\u001b[39;00m\n\u001b[0;32m      8\u001b[0m \u001b[38;5;28mprint\u001b[39m(\u001b[38;5;124mf\u001b[39m\u001b[38;5;124m\"\u001b[39m\u001b[38;5;124mTitle: \u001b[39m\u001b[38;5;132;01m{\u001b[39;00msubmission\u001b[38;5;241m.\u001b[39mtitle\u001b[38;5;132;01m}\u001b[39;00m\u001b[38;5;124m\"\u001b[39m)\n",
      "File \u001b[1;32m~\\anaconda3\\Lib\\site-packages\\praw\\util\\deprecate_args.py:43\u001b[0m, in \u001b[0;36m_deprecate_args.<locals>.wrapper.<locals>.wrapped\u001b[1;34m(*args, **kwargs)\u001b[0m\n\u001b[0;32m     36\u001b[0m     arg_string \u001b[38;5;241m=\u001b[39m _generate_arg_string(_old_args[: \u001b[38;5;28mlen\u001b[39m(args)])\n\u001b[0;32m     37\u001b[0m     warn(\n\u001b[0;32m     38\u001b[0m         \u001b[38;5;124mf\u001b[39m\u001b[38;5;124m\"\u001b[39m\u001b[38;5;124mPositional arguments for \u001b[39m\u001b[38;5;132;01m{\u001b[39;00mfunc\u001b[38;5;241m.\u001b[39m\u001b[38;5;18m__qualname__\u001b[39m\u001b[38;5;132;01m!r}\u001b[39;00m\u001b[38;5;124m will no longer be\u001b[39m\u001b[38;5;124m\"\u001b[39m\n\u001b[0;32m     39\u001b[0m         \u001b[38;5;124mf\u001b[39m\u001b[38;5;124m\"\u001b[39m\u001b[38;5;124m supported in PRAW 8.\u001b[39m\u001b[38;5;130;01m\\n\u001b[39;00m\u001b[38;5;124mCall this function with \u001b[39m\u001b[38;5;132;01m{\u001b[39;00marg_string\u001b[38;5;132;01m}\u001b[39;00m\u001b[38;5;124m.\u001b[39m\u001b[38;5;124m\"\u001b[39m,\n\u001b[0;32m     40\u001b[0m         \u001b[38;5;167;01mDeprecationWarning\u001b[39;00m,\n\u001b[0;32m     41\u001b[0m         stacklevel\u001b[38;5;241m=\u001b[39m\u001b[38;5;241m2\u001b[39m,\n\u001b[0;32m     42\u001b[0m     )\n\u001b[1;32m---> 43\u001b[0m \u001b[38;5;28;01mreturn\u001b[39;00m \u001b[43mfunc\u001b[49m\u001b[43m(\u001b[49m\u001b[38;5;241;43m*\u001b[39;49m\u001b[38;5;241;43m*\u001b[39;49m\u001b[38;5;28;43mdict\u001b[39;49m\u001b[43m(\u001b[49m\u001b[38;5;28;43mzip\u001b[39;49m\u001b[43m(\u001b[49m\u001b[43m_old_args\u001b[49m\u001b[43m,\u001b[49m\u001b[43m \u001b[49m\u001b[43margs\u001b[49m\u001b[43m)\u001b[49m\u001b[43m)\u001b[49m\u001b[43m,\u001b[49m\u001b[43m \u001b[49m\u001b[38;5;241;43m*\u001b[39;49m\u001b[38;5;241;43m*\u001b[39;49m\u001b[43mkwargs\u001b[49m\u001b[43m)\u001b[49m\n",
      "File \u001b[1;32m~\\anaconda3\\Lib\\site-packages\\praw\\reddit.py:981\u001b[0m, in \u001b[0;36mReddit.submission\u001b[1;34m(self, id, url)\u001b[0m\n\u001b[0;32m    969\u001b[0m \u001b[38;5;129m@_deprecate_args\u001b[39m(\u001b[38;5;124m\"\u001b[39m\u001b[38;5;124mid\u001b[39m\u001b[38;5;124m\"\u001b[39m, \u001b[38;5;124m\"\u001b[39m\u001b[38;5;124murl\u001b[39m\u001b[38;5;124m\"\u001b[39m)\n\u001b[0;32m    970\u001b[0m \u001b[38;5;28;01mdef\u001b[39;00m \u001b[38;5;21msubmission\u001b[39m(  \u001b[38;5;66;03m# pylint: disable=invalid-name,redefined-builtin\u001b[39;00m\n\u001b[0;32m    971\u001b[0m     \u001b[38;5;28mself\u001b[39m, \u001b[38;5;28mid\u001b[39m: Optional[\u001b[38;5;28mstr\u001b[39m] \u001b[38;5;241m=\u001b[39m \u001b[38;5;28;01mNone\u001b[39;00m, \u001b[38;5;241m*\u001b[39m, url: Optional[\u001b[38;5;28mstr\u001b[39m] \u001b[38;5;241m=\u001b[39m \u001b[38;5;28;01mNone\u001b[39;00m\n\u001b[0;32m    972\u001b[0m ) \u001b[38;5;241m-\u001b[39m\u001b[38;5;241m>\u001b[39m \u001b[38;5;124m\"\u001b[39m\u001b[38;5;124mpraw.models.Submission\u001b[39m\u001b[38;5;124m\"\u001b[39m:\n\u001b[0;32m    973\u001b[0m \u001b[38;5;250m    \u001b[39m\u001b[38;5;124;03m\"\"\"Return a lazy instance of :class:`.Submission`.\u001b[39;00m\n\u001b[0;32m    974\u001b[0m \n\u001b[0;32m    975\u001b[0m \u001b[38;5;124;03m    :param id: A Reddit base36 submission ID, e.g., ``\"2gmzqe\"``.\u001b[39;00m\n\u001b[1;32m   (...)\u001b[0m\n\u001b[0;32m    979\u001b[0m \n\u001b[0;32m    980\u001b[0m \u001b[38;5;124;03m    \"\"\"\u001b[39;00m\n\u001b[1;32m--> 981\u001b[0m     \u001b[38;5;28;01mreturn\u001b[39;00m \u001b[43mmodels\u001b[49m\u001b[38;5;241;43m.\u001b[39;49m\u001b[43mSubmission\u001b[49m\u001b[43m(\u001b[49m\u001b[38;5;28;43mself\u001b[39;49m\u001b[43m,\u001b[49m\u001b[43m \u001b[49m\u001b[38;5;28;43mid\u001b[39;49m\u001b[38;5;241;43m=\u001b[39;49m\u001b[38;5;28;43mid\u001b[39;49m\u001b[43m,\u001b[49m\u001b[43m \u001b[49m\u001b[43murl\u001b[49m\u001b[38;5;241;43m=\u001b[39;49m\u001b[43murl\u001b[49m\u001b[43m)\u001b[49m\n",
      "File \u001b[1;32m~\\anaconda3\\Lib\\site-packages\\praw\\models\\reddit\\submission.py:597\u001b[0m, in \u001b[0;36mSubmission.__init__\u001b[1;34m(self, reddit, id, url, _data)\u001b[0m\n\u001b[0;32m    595\u001b[0m     \u001b[38;5;28mself\u001b[39m\u001b[38;5;241m.\u001b[39mid \u001b[38;5;241m=\u001b[39m \u001b[38;5;28mid\u001b[39m\n\u001b[0;32m    596\u001b[0m \u001b[38;5;28;01melif\u001b[39;00m url:\n\u001b[1;32m--> 597\u001b[0m     \u001b[38;5;28mself\u001b[39m\u001b[38;5;241m.\u001b[39mid \u001b[38;5;241m=\u001b[39m \u001b[38;5;28;43mself\u001b[39;49m\u001b[38;5;241;43m.\u001b[39;49m\u001b[43mid_from_url\u001b[49m\u001b[43m(\u001b[49m\u001b[43murl\u001b[49m\u001b[43m)\u001b[49m\n\u001b[0;32m    599\u001b[0m \u001b[38;5;28msuper\u001b[39m()\u001b[38;5;241m.\u001b[39m\u001b[38;5;21m__init__\u001b[39m(reddit, _data\u001b[38;5;241m=\u001b[39m_data)\n\u001b[0;32m    601\u001b[0m \u001b[38;5;28mself\u001b[39m\u001b[38;5;241m.\u001b[39m_additional_fetch_params \u001b[38;5;241m=\u001b[39m {}\n",
      "File \u001b[1;32m~\\anaconda3\\Lib\\site-packages\\praw\\models\\reddit\\submission.py:487\u001b[0m, in \u001b[0;36mSubmission.id_from_url\u001b[1;34m(url)\u001b[0m\n\u001b[0;32m    484\u001b[0m     submission_id \u001b[38;5;241m=\u001b[39m parts[parts\u001b[38;5;241m.\u001b[39mindex(\u001b[38;5;124m\"\u001b[39m\u001b[38;5;124mcomments\u001b[39m\u001b[38;5;124m\"\u001b[39m) \u001b[38;5;241m+\u001b[39m \u001b[38;5;241m1\u001b[39m]\n\u001b[0;32m    486\u001b[0m \u001b[38;5;28;01mif\u001b[39;00m \u001b[38;5;129;01mnot\u001b[39;00m submission_id\u001b[38;5;241m.\u001b[39misalnum():\n\u001b[1;32m--> 487\u001b[0m     \u001b[38;5;28;01mraise\u001b[39;00m InvalidURL(url)\n\u001b[0;32m    488\u001b[0m \u001b[38;5;28;01mreturn\u001b[39;00m submission_id\n",
      "\u001b[1;31mInvalidURL\u001b[0m: Invalid URL: https://www.reddit.com/r/sports/comments/example_post/"
     ]
    }
   ],
   "source": [
    "# Example post URL (replace with your target post)\n",
    "post_url = 'https://www.reddit.com/r/sports/comments/example_post/'\n",
    "\n",
    "# Get the submission object\n",
    "submission = reddit.submission(url=post_url)\n",
    "\n",
    "# Print submission details\n",
    "print(f\"Title: {submission.title}\")\n",
    "print(f\"Score: {submission.score}\")\n",
    "print(f\"Subreddit: {submission.subreddit}\")\n",
    "print(f\"Posted by: {submission.author}\")\n",
    "print(f\"Number of Comments: {submission.num_comments}\")\n",
    "print(\"-\" * 40)\n",
    "\n",
    "# Process and print the comments\n",
    "submission.comments.replace_more(limit=None)\n",
    "for comment in submission.comments.list():\n",
    "    print(f\"Comment by {comment.author}: {comment.body}\")\n",
    "    print(\"-\" * 20)\n"
   ]
  },
  {
   "cell_type": "code",
   "execution_count": null,
   "metadata": {},
   "outputs": [],
   "source": [
    "import csv\n",
    "\n",
    "# Open/Create a file to append data\n",
    "csvFile = open('reddit_posts.csv', 'a', newline='', encoding='utf-8')\n",
    "\n",
    "# Use csv writer\n",
    "csvWriter = csv.writer(csvFile)\n",
    "\n",
    "# Write headers\n",
    "csvWriter.writerow(['Title', 'Score', 'Subreddit', 'URL', 'Author', 'Num_Comments'])\n",
    "\n",
    "# Write the post data\n",
    "for post in posts:\n",
    "    csvWriter.writerow([post.title, post.score, post.subreddit, post.url, post.author, post.num_comments])\n",
    "\n",
    "# Close the file\n",
    "csvFile.close()\n"
   ]
  },
  {
   "cell_type": "code",
   "execution_count": null,
   "metadata": {},
   "outputs": [],
   "source": [
    "# Sentiment140 Dataset"
   ]
  },
  {
   "cell_type": "code",
   "execution_count": 27,
   "metadata": {},
   "outputs": [
    {
     "name": "stdout",
     "output_type": "stream",
     "text": [
      "   target         ids                          date      flag  \\\n",
      "0       0  1467810369  Mon Apr 06 22:19:45 PDT 2009  NO_QUERY   \n",
      "1       0  1467810672  Mon Apr 06 22:19:49 PDT 2009  NO_QUERY   \n",
      "2       0  1467810917  Mon Apr 06 22:19:53 PDT 2009  NO_QUERY   \n",
      "3       0  1467811184  Mon Apr 06 22:19:57 PDT 2009  NO_QUERY   \n",
      "4       0  1467811193  Mon Apr 06 22:19:57 PDT 2009  NO_QUERY   \n",
      "\n",
      "              user                                               text  \n",
      "0  _TheSpecialOne_  @switchfoot http://twitpic.com/2y1zl - Awww, t...  \n",
      "1    scotthamilton  is upset that he can't update his Facebook by ...  \n",
      "2         mattycus  @Kenichan I dived many times for the ball. Man...  \n",
      "3          ElleCTF    my whole body feels itchy and like its on fire   \n",
      "4           Karoli  @nationwideclass no, it's not behaving at all....  \n"
     ]
    }
   ],
   "source": [
    "import pandas as pd\n",
    "\n",
    "# Load the dataset\n",
    "dataset_path = r'C:\\Users\\User\\Documents\\Brain Station\\Data Science\\Capstone\\capstone_social_listening_GC\\data\\training.1600000.processed.noemoticon.csv'\n",
    "columns = ['target', 'ids', 'date', 'flag', 'user', 'text']\n",
    "df = pd.read_csv(dataset_path, encoding='ISO-8859-1', names=columns)\n",
    "\n",
    "# Display the first few rows\n",
    "print(df.head())\n"
   ]
  },
  {
   "cell_type": "code",
   "execution_count": 29,
   "metadata": {},
   "outputs": [
    {
     "name": "stdout",
     "output_type": "stream",
     "text": [
      "0       awww thats a bummer  you shoulda got david ...\n",
      "1    is upset that he cant update his facebook by t...\n",
      "2     i dived many times for the ball managed to sa...\n",
      "3      my whole body feels itchy and like its on fire \n",
      "4     no its not behaving at all im mad why am i he...\n",
      "Name: text, dtype: object\n"
     ]
    }
   ],
   "source": [
    "# Data Preprocessing\n",
    "import re\n",
    "from nltk.corpus import stopwords\n",
    "from nltk.tokenize import word_tokenize\n",
    "\n",
    "# Convert target labels to binary (0 = negative, 1 = positive)\n",
    "df['target'] = df['target'].apply(lambda x: 1 if x == 4 else 0)\n",
    "\n",
    "# Function to clean tweet text\n",
    "def clean_text(text):\n",
    "    text = re.sub(r'http\\S+', '', text)  # Remove URLs\n",
    "    text = re.sub(r'@\\w+', '', text)  # Remove mentions\n",
    "    text = re.sub(r'#', '', text)  # Remove hashtags\n",
    "    text = re.sub(r'\\d+', '', text)  # Remove numbers\n",
    "    text = text.lower()  # Convert to lowercase\n",
    "    text = re.sub(r'[^\\w\\s]', '', text)  # Remove punctuation\n",
    "    return text\n",
    "\n",
    "# Apply cleaning function\n",
    "df['text'] = df['text'].apply(clean_text)\n",
    "\n",
    "# Display cleaned text\n",
    "print(df['text'].head())\n"
   ]
  },
  {
   "cell_type": "code",
   "execution_count": 44,
   "metadata": {},
   "outputs": [
    {
     "name": "stderr",
     "output_type": "stream",
     "text": [
      "[nltk_data] Downloading package stopwords to\n",
      "[nltk_data]     C:\\Users\\User\\AppData\\Roaming\\nltk_data...\n",
      "[nltk_data]   Package stopwords is already up-to-date!\n",
      "[nltk_data] Downloading package punkt to\n",
      "[nltk_data]     C:\\Users\\User\\AppData\\Roaming\\nltk_data...\n",
      "[nltk_data]   Package punkt is already up-to-date!\n"
     ]
    },
    {
     "data": {
      "text/plain": [
       "True"
      ]
     },
     "execution_count": 44,
     "metadata": {},
     "output_type": "execute_result"
    }
   ],
   "source": [
    "import nltk\n",
    "\n",
    "# Download the stopwords corpus\n",
    "nltk.download('stopwords')\n",
    "# Download the punkt tokenizer\n",
    "nltk.download('punkt')"
   ]
  },
  {
   "cell_type": "code",
   "execution_count": 46,
   "metadata": {},
   "outputs": [
    {
     "name": "stdout",
     "output_type": "stream",
     "text": [
      "0    awww thats bummer shoulda got david carr third...\n",
      "1    upset cant update facebook texting might cry r...\n",
      "2    dived many times ball managed save rest go bounds\n",
      "3                     whole body feels itchy like fire\n",
      "4                             behaving im mad cant see\n",
      "Name: text, dtype: object\n"
     ]
    }
   ],
   "source": [
    "from nltk.corpus import stopwords\n",
    "from nltk.tokenize import word_tokenize\n",
    "\n",
    "# Set stopwords\n",
    "stop_words = set(stopwords.words('english'))\n",
    "\n",
    "# Function to tokenize and remove stopwords\n",
    "def preprocess_text(text):\n",
    "    word_tokens = word_tokenize(text)\n",
    "    filtered_text = [word for word in word_tokens if word not in stop_words]\n",
    "    return ' '.join(filtered_text)\n",
    "\n",
    "# Apply preprocessing function\n",
    "df['text'] = df['text'].apply(preprocess_text)\n",
    "\n",
    "# Display preprocessed text\n",
    "print(df['text'].head())\n"
   ]
  },
  {
   "cell_type": "code",
   "execution_count": 48,
   "metadata": {},
   "outputs": [
    {
     "data": {
      "image/png": "[encoded data removed]",
      "text/plain": [
       "<Figure size 640x480 with 1 Axes>"
      ]
     },
     "metadata": {},
     "output_type": "display_data"
    },
    {
     "name": "stdout",
     "output_type": "stream",
     "text": [
      "Most common words in positive tweets: [('im', 74890), ('good', 60862), ('love', 46850), ('day', 45327), ('like', 37116), ('get', 36222), ('thanks', 33746), ('lol', 33510), ('got', 31627), ('going', 30649)]\n",
      "Most common words in negative tweets: [('im', 102670), ('get', 45378), ('go', 45162), ('dont', 44922), ('work', 44041), ('cant', 43599), ('like', 40665), ('day', 39478), ('got', 38207), ('today', 36206)]\n"
     ]
    }
   ],
   "source": [
    "import matplotlib.pyplot as plt\n",
    "\n",
    "# Distribution of sentiment\n",
    "df['target'].value_counts().plot(kind='bar', title='Sentiment Distribution')\n",
    "plt.show()\n",
    "\n",
    "# Most common words in positive and negative tweets\n",
    "from collections import Counter\n",
    "\n",
    "positive_words = ' '.join(df[df['target'] == 1]['text']).split()\n",
    "negative_words = ' '.join(df[df['target'] == 0]['text']).split()\n",
    "\n",
    "positive_word_freq = Counter(positive_words)\n",
    "negative_word_freq = Counter(negative_words)\n",
    "\n",
    "print(\"Most common words in positive tweets:\", positive_word_freq.most_common(10))\n",
    "print(\"Most common words in negative tweets:\", negative_word_freq.most_common(10))\n"
   ]
  },
  {
   "cell_type": "code",
   "execution_count": 50,
   "metadata": {},
   "outputs": [
    {
     "name": "stderr",
     "output_type": "stream",
     "text": [
      "C:\\Users\\User\\anaconda3\\Lib\\site-packages\\sklearn\\linear_model\\_logistic.py:458: ConvergenceWarning: lbfgs failed to converge (status=1):\n",
      "STOP: TOTAL NO. of ITERATIONS REACHED LIMIT.\n",
      "\n",
      "Increase the number of iterations (max_iter) or scale the data as shown in:\n",
      "    https://scikit-learn.org/stable/modules/preprocessing.html\n",
      "Please also refer to the documentation for alternative solver options:\n",
      "    https://scikit-learn.org/stable/modules/linear_model.html#logistic-regression\n",
      "  n_iter_i = _check_optimize_result(\n"
     ]
    },
    {
     "name": "stdout",
     "output_type": "stream",
     "text": [
      "              precision    recall  f1-score   support\n",
      "\n",
      "           0       0.79      0.75      0.77    159494\n",
      "           1       0.76      0.80      0.78    160506\n",
      "\n",
      "    accuracy                           0.77    320000\n",
      "   macro avg       0.77      0.77      0.77    320000\n",
      "weighted avg       0.77      0.77      0.77    320000\n",
      "\n"
     ]
    }
   ],
   "source": [
    "from sklearn.model_selection import train_test_split\n",
    "from sklearn.feature_extraction.text import TfidfVectorizer\n",
    "from sklearn.linear_model import LogisticRegression\n",
    "from sklearn.metrics import classification_report\n",
    "\n",
    "# Split the data into training and testing sets\n",
    "X_train, X_test, y_train, y_test = train_test_split(df['text'], df['target'], test_size=0.2, random_state=42)\n",
    "\n",
    "# Convert text data into TF-IDF features\n",
    "vectorizer = TfidfVectorizer(max_features=5000)\n",
    "X_train_tfidf = vectorizer.fit_transform(X_train)\n",
    "X_test_tfidf = vectorizer.transform(X_test)\n",
    "\n",
    "# Train a logistic regression model\n",
    "model = LogisticRegression()\n",
    "model.fit(X_train_tfidf, y_train)\n",
    "\n",
    "# Predict and evaluate the model\n",
    "y_pred = model.predict(X_test_tfidf)\n",
    "print(classification_report(y_test, y_pred))\n"
   ]
  },
  {
   "cell_type": "code",
   "execution_count": 54,
   "metadata": {},
   "outputs": [
    {
     "data": {
      "text/plain": [
       "['tfidf_vectorizer.pkl']"
      ]
     },
     "execution_count": 54,
     "metadata": {},
     "output_type": "execute_result"
    }
   ],
   "source": [
    "import joblib\n",
    "\n",
    "# Save the trained model\n",
    "joblib.dump(model, 'sentiment_model.pkl')\n",
    "\n",
    "# Save the TF-IDF vectorizer\n",
    "joblib.dump(vectorizer, 'tfidf_vectorizer.pkl')\n"
   ]
  },
  {
   "cell_type": "code",
   "execution_count": 56,
   "metadata": {},
   "outputs": [
    {
     "name": "stdout",
     "output_type": "stream",
     "text": [
      "Positive\n"
     ]
    },
    {
     "data": {
      "text/plain": [
       "['tfidf_vectorizer.pkl']"
      ]
     },
     "execution_count": 56,
     "metadata": {},
     "output_type": "execute_result"
    }
   ],
   "source": [
    "# Saving the Model\n",
    "\n",
    "# Load the model and vectorizer\n",
    "model = joblib.load('sentiment_model.pkl')\n",
    "vectorizer = joblib.load('tfidf_vectorizer.pkl')\n",
    "\n",
    "# Example tweet\n",
    "new_tweet = \"I love this brand!\"\n",
    "\n",
    "# Preprocess and transform the tweet\n",
    "new_tweet_clean = preprocess_text(clean_text(new_tweet))\n",
    "new_tweet_tfidf = vectorizer.transform([new_tweet_clean])\n",
    "\n",
    "# Predict sentiment\n",
    "sentiment = model.predict(new_tweet_tfidf)\n",
    "print(\"Positive\" if sentiment == 1 else \"Negative\")\n",
    "\n",
    "import joblib\n",
    "\n",
    "# Save the trained model\n",
    "joblib.dump(model, 'sentiment_model.pkl')\n",
    "\n",
    "# Save the TF-IDF vectorizer\n",
    "joblib.dump(vectorizer, 'tfidf_vectorizer.pkl')\n"
   ]
  },
  {
   "cell_type": "code",
   "execution_count": 58,
   "metadata": {},
   "outputs": [
    {
     "name": "stdout",
     "output_type": "stream",
     "text": [
      "Positive\n"
     ]
    }
   ],
   "source": [
    "# Using the Model for Prediction\n",
    "\n",
    "# Load the model and vectorizer\n",
    "model = joblib.load('sentiment_model.pkl')\n",
    "vectorizer = joblib.load('tfidf_vectorizer.pkl')\n",
    "\n",
    "# Example tweet\n",
    "new_tweet = \"I love this brand!\"\n",
    "\n",
    "# Preprocess and transform the tweet\n",
    "new_tweet_clean = preprocess_text(clean_text(new_tweet))\n",
    "new_tweet_tfidf = vectorizer.transform([new_tweet_clean])\n",
    "\n",
    "# Predict sentiment\n",
    "sentiment = model.predict(new_tweet_tfidf)\n",
    "print(\"Positive\" if sentiment == 1 else \"Negative\")\n"
   ]
  },
  {
   "cell_type": "code",
   "execution_count": null,
   "metadata": {},
   "outputs": [],
   "source": [
    "# •\tGoogle News API"
   ]
  },
  {
   "cell_type": "code",
   "execution_count": 60,
   "metadata": {
    "scrolled": true
   },
   "outputs": [
    {
     "name": "stdout",
     "output_type": "stream",
     "text": [
      "Collecting gnewsNote: you may need to restart the kernel to use updated packages.\n",
      "\n",
      "  Downloading gnews-0.3.7-py3-none-any.whl.metadata (17 kB)\n",
      "Collecting feedparser~=6.0.2 (from gnews)\n",
      "  Downloading feedparser-6.0.11-py3-none-any.whl.metadata (2.4 kB)\n",
      "Requirement already satisfied: beautifulsoup4<5,>=4.9.3 in c:\\users\\user\\anaconda3\\lib\\site-packages (from gnews) (4.12.2)\n",
      "Collecting dnspython~=1.16.0 (from gnews)\n",
      "  Downloading dnspython-1.16.0-py2.py3-none-any.whl.metadata (1.8 kB)\n",
      "Requirement already satisfied: requests in c:\\users\\user\\anaconda3\\lib\\site-packages (from gnews) (2.31.0)\n",
      "Requirement already satisfied: soupsieve>1.2 in c:\\users\\user\\anaconda3\\lib\\site-packages (from beautifulsoup4<5,>=4.9.3->gnews) (2.5)\n",
      "Collecting sgmllib3k (from feedparser~=6.0.2->gnews)\n",
      "  Downloading sgmllib3k-1.0.0.tar.gz (5.8 kB)\n",
      "  Preparing metadata (setup.py): started\n",
      "  Preparing metadata (setup.py): finished with status 'done'\n",
      "Requirement already satisfied: charset-normalizer<4,>=2 in c:\\users\\user\\anaconda3\\lib\\site-packages (from requests->gnews) (2.0.4)\n",
      "Requirement already satisfied: idna<4,>=2.5 in c:\\users\\user\\anaconda3\\lib\\site-packages (from requests->gnews) (3.4)\n",
      "Requirement already satisfied: urllib3<3,>=1.21.1 in c:\\users\\user\\anaconda3\\lib\\site-packages (from requests->gnews) (2.0.7)\n",
      "Requirement already satisfied: certifi>=2017.4.17 in c:\\users\\user\\anaconda3\\lib\\site-packages (from requests->gnews) (2024.7.4)\n",
      "Downloading gnews-0.3.7-py3-none-any.whl (15 kB)\n",
      "Downloading dnspython-1.16.0-py2.py3-none-any.whl (188 kB)\n",
      "   ---------------------------------------- 0.0/188.4 kB ? eta -:--:--\n",
      "   ---------------------------------------- 0.0/188.4 kB ? eta -:--:--\n",
      "   ---- ----------------------------------- 20.5/188.4 kB ? eta -:--:--\n",
      "   ---- ----------------------------------- 20.5/188.4 kB ? eta -:--:--\n",
      "   -------- ------------------------------ 41.0/188.4 kB 281.8 kB/s eta 0:00:01\n",
      "   -------------- ------------------------ 71.7/188.4 kB 393.8 kB/s eta 0:00:01\n",
      "   -------------------- ----------------- 102.4/188.4 kB 454.0 kB/s eta 0:00:01\n",
      "   -------------------- ----------------- 102.4/188.4 kB 454.0 kB/s eta 0:00:01\n",
      "   ------------------------------ ------- 153.6/188.4 kB 484.3 kB/s eta 0:00:01\n",
      "   -------------------------------------- 188.4/188.4 kB 519.3 kB/s eta 0:00:00\n",
      "Downloading feedparser-6.0.11-py3-none-any.whl (81 kB)\n",
      "   ---------------------------------------- 0.0/81.3 kB ? eta -:--:--\n",
      "   ----------------------------------- ---- 71.7/81.3 kB 3.8 MB/s eta 0:00:01\n",
      "   ---------------------------------------- 81.3/81.3 kB 413.4 kB/s eta 0:00:00\n",
      "Building wheels for collected packages: sgmllib3k\n",
      "  Building wheel for sgmllib3k (setup.py): started\n",
      "  Building wheel for sgmllib3k (setup.py): finished with status 'done'\n",
      "  Created wheel for sgmllib3k: filename=sgmllib3k-1.0.0-py3-none-any.whl size=6061 sha256=69253cfc3c0ccdb0ca92411c6ca4590a4efd4a9db28a9260b3d503acd9b49566\n",
      "  Stored in directory: c:\\users\\user\\appdata\\local\\pip\\cache\\wheels\\3b\\25\\2a\\105d6a15df6914f4d15047691c6c28f9052cc1173e40285d03\n",
      "Successfully built sgmllib3k\n",
      "Installing collected packages: sgmllib3k, feedparser, dnspython, gnews\n",
      "Successfully installed dnspython-1.16.0 feedparser-6.0.11 gnews-0.3.7 sgmllib3k-1.0.0\n"
     ]
    }
   ],
   "source": [
    "pip install gnews"
   ]
  },
  {
   "cell_type": "code",
   "execution_count": 62,
   "metadata": {},
   "outputs": [
    {
     "name": "stdout",
     "output_type": "stream",
     "text": [
      "                                               title  \\\n",
      "0  1 Move That Could Send Nike Stock Soaring - Th...   \n",
      "1  These Laggards Appear To Have Bottomed: NIKE A...   \n",
      "2  1 Move That Could Send Nike Stock Soaring - Ya...   \n",
      "3  Nike Launches \"Halo\" Apparel Collection in Hon...   \n",
      "4  Nike's Sale Is Taking an Extra 25% Off Activew...   \n",
      "\n",
      "                                         description  \\\n",
      "0  1 Move That Could Send Nike Stock Soaring  The...   \n",
      "1  These Laggards Appear To Have Bottomed: NIKE A...   \n",
      "2  1 Move That Could Send Nike Stock Soaring  Yah...   \n",
      "3  Nike Launches \"Halo\" Apparel Collection in Hon...   \n",
      "4  Nike's Sale Is Taking an Extra 25% Off Activew...   \n",
      "\n",
      "                  published date  \\\n",
      "0  Sat, 17 Aug 2024 16:00:00 GMT   \n",
      "1  Sun, 18 Aug 2024 16:00:00 GMT   \n",
      "2  Sat, 17 Aug 2024 16:00:00 GMT   \n",
      "3  Mon, 19 Aug 2024 08:15:50 GMT   \n",
      "4  Mon, 19 Aug 2024 17:07:13 GMT   \n",
      "\n",
      "                                                 url  \\\n",
      "0  https://news.google.com/rss/articles/CBMijAFBV...   \n",
      "1  https://news.google.com/rss/articles/CBMitwFBV...   \n",
      "2  https://news.google.com/rss/articles/CBMid0FVX...   \n",
      "3  https://news.google.com/rss/articles/CBMimAFBV...   \n",
      "4  https://news.google.com/rss/articles/CBMivwFBV...   \n",
      "\n",
      "                                           publisher  \n",
      "0  {'href': 'https://www.fool.com', 'title': 'The...  \n",
      "1  {'href': 'https://www.forbes.com', 'title': 'F...  \n",
      "2  {'href': 'https://finance.yahoo.com', 'title':...  \n",
      "3  {'href': 'https://hypebeast.com', 'title': 'HY...  \n",
      "4  {'href': 'https://www.etonline.com', 'title': ...  \n"
     ]
    }
   ],
   "source": [
    "from gnews import GNews\n",
    "import pandas as pd\n",
    "\n",
    "# Initialize GNews object\n",
    "google_news = GNews(language='en', country='US', max_results=10)\n",
    "\n",
    "# Search for articles related to a specific sports brand\n",
    "brand = \"Nike\"\n",
    "articles = google_news.get_news(brand)\n",
    "\n",
    "# Convert the articles to a DataFrame\n",
    "df = pd.DataFrame(articles)\n",
    "\n",
    "# Display the first few rows of the DataFrame\n",
    "print(df.head())\n"
   ]
  },
  {
   "cell_type": "code",
   "execution_count": null,
   "metadata": {},
   "outputs": [],
   "source": [
    "# using now Kaggle data:"
   ]
  },
  {
   "cell_type": "code",
   "execution_count": 64,
   "metadata": {
    "scrolled": true
   },
   "outputs": [
    {
     "name": "stdout",
     "output_type": "stream",
     "text": [
      "Collecting kaggle\n",
      "  Downloading kaggle-1.6.17.tar.gz (82 kB)\n",
      "     ---------------------------------------- 0.0/82.7 kB ? eta -:--:--\n",
      "     ---- ----------------------------------- 10.2/82.7 kB ? eta -:--:--\n",
      "     --------- ---------------------------- 20.5/82.7 kB 217.9 kB/s eta 0:00:01\n",
      "     --------- ---------------------------- 20.5/82.7 kB 217.9 kB/s eta 0:00:01\n",
      "     -------------- ----------------------- 30.7/82.7 kB 163.8 kB/s eta 0:00:01\n",
      "     -------------- ----------------------- 30.7/82.7 kB 163.8 kB/s eta 0:00:01\n",
      "     ------------------ ------------------- 41.0/82.7 kB 140.3 kB/s eta 0:00:01\n",
      "     ---------------------------- --------- 61.4/82.7 kB 204.8 kB/s eta 0:00:01\n",
      "     -------------------------------------- 82.7/82.7 kB 231.5 kB/s eta 0:00:00\n",
      "  Preparing metadata (setup.py): started\n",
      "  Preparing metadata (setup.py): finished with status 'done'\n",
      "Requirement already satisfied: six>=1.10 in c:\\users\\user\\appdata\\roaming\\python\\python311\\site-packages (from kaggle) (1.16.0)\n",
      "Requirement already satisfied: certifi>=2023.7.22 in c:\\users\\user\\anaconda3\\lib\\site-packages (from kaggle) (2024.7.4)\n",
      "Requirement already satisfied: python-dateutil in c:\\users\\user\\appdata\\roaming\\python\\python311\\site-packages (from kaggle) (2.8.2)\n",
      "Requirement already satisfied: requests in c:\\users\\user\\anaconda3\\lib\\site-packages (from kaggle) (2.31.0)\n",
      "Requirement already satisfied: tqdm in c:\\users\\user\\anaconda3\\lib\\site-packages (from kaggle) (4.65.0)\n",
      "Requirement already satisfied: python-slugify in c:\\users\\user\\anaconda3\\lib\\site-packages (from kaggle) (5.0.2)\n",
      "Requirement already satisfied: urllib3 in c:\\users\\user\\anaconda3\\lib\\site-packages (from kaggle) (2.0.7)\n",
      "Requirement already satisfied: bleach in c:\\users\\user\\anaconda3\\lib\\site-packages (from kaggle) (4.1.0)\n",
      "Requirement already satisfied: packaging in c:\\users\\user\\appdata\\roaming\\python\\python311\\site-packages (from bleach->kaggle) (23.2)\n",
      "Requirement already satisfied: webencodings in c:\\users\\user\\anaconda3\\lib\\site-packages (from bleach->kaggle) (0.5.1)\n",
      "Requirement already satisfied: text-unidecode>=1.3 in c:\\users\\user\\anaconda3\\lib\\site-packages (from python-slugify->kaggle) (1.3)\n",
      "Requirement already satisfied: charset-normalizer<4,>=2 in c:\\users\\user\\anaconda3\\lib\\site-packages (from requests->kaggle) (2.0.4)\n",
      "Requirement already satisfied: idna<4,>=2.5 in c:\\users\\user\\anaconda3\\lib\\site-packages (from requests->kaggle) (3.4)\n",
      "Requirement already satisfied: colorama in c:\\users\\user\\appdata\\roaming\\python\\python311\\site-packages (from tqdm->kaggle) (0.4.6)\n",
      "Building wheels for collected packages: kaggle\n",
      "  Building wheel for kaggle (setup.py): started\n",
      "  Building wheel for kaggle (setup.py): finished with status 'done'\n",
      "  Created wheel for kaggle: filename=kaggle-1.6.17-py3-none-any.whl size=105796 sha256=cc629ed52f6d5b5f68a3d967c554b8093dc4ccff308468e90efb616e880e362c\n",
      "  Stored in directory: c:\\users\\user\\appdata\\local\\pip\\cache\\wheels\\ff\\55\\fb\\b27a466be754d2a06ffe0e37b248d844f090a63b51becea85d\n",
      "Successfully built kaggle\n",
      "Installing collected packages: kaggle\n",
      "Successfully installed kaggle-1.6.17\n",
      "Note: you may need to restart the kernel to use updated packages.\n"
     ]
    }
   ],
   "source": [
    "pip install kaggle"
   ]
  },
  {
   "cell_type": "code",
   "execution_count": 74,
   "metadata": {
    "scrolled": true
   },
   "outputs": [
    {
     "name": "stdout",
     "output_type": "stream",
     "text": [
      "                                        Product Name Product ID  \\\n",
      "0  Women's adidas Originals NMD_Racer Primeknit S...     AH2430   \n",
      "1               Women's adidas Originals Sleek Shoes     G27341   \n",
      "2                  Women's adidas Swim Puka Slippers     CM0081   \n",
      "3   Women's adidas Sport Inspired Questar Ride Shoes     B44832   \n",
      "4           Women's adidas Originals Taekwondo Shoes     D98205   \n",
      "\n",
      "   Listing Price  Sale Price  Discount                    Brand  \\\n",
      "0          14999        7499        50  Adidas Adidas ORIGINALS   \n",
      "1           7599        3799        50         Adidas ORIGINALS   \n",
      "2            999         599        40        Adidas CORE / NEO   \n",
      "3           6999        3499        50        Adidas CORE / NEO   \n",
      "4           7999        3999        50         Adidas ORIGINALS   \n",
      "\n",
      "                                         Description  Rating  Reviews  \\\n",
      "0  Channeling the streamlined look of an '80s rac...     4.8       41   \n",
      "1  A modern take on adidas sport heritage, tailor...     3.3       24   \n",
      "2  These adidas Puka slippers for women's come wi...     2.6       37   \n",
      "3  Inspired by modern tech runners, these women's...     4.1       35   \n",
      "4  This design is inspired by vintage Taekwondo s...     3.5       72   \n",
      "\n",
      "          Last Visited  \n",
      "0  2020-04-13T15:06:14  \n",
      "1  2020-04-13T15:06:15  \n",
      "2  2020-04-13T15:06:15  \n",
      "3  2020-04-13T15:06:15  \n",
      "4  2020-04-13T15:06:15  \n"
     ]
    }
   ],
   "source": [
    "import pandas as pd\n",
    "\n",
    "# Load the dataset into a DataFrame\n",
    "dataset_path = r'C:\\Users\\User\\Documents\\Brain Station\\Data Science\\Capstone\\capstone_social_listening_GC\\data\\Adidas Vs Nike.csv'\n",
    "df_Adidas_Vs_Nike = pd.read_csv(dataset_path)\n",
    "\n",
    "# Display the first few rows of the DataFrame\n",
    "print(df_Adidas_Vs_Nike.head())"
   ]
  },
  {
   "cell_type": "code",
   "execution_count": 78,
   "metadata": {},
   "outputs": [
    {
     "name": "stdout",
     "output_type": "stream",
     "text": [
      "<class 'pandas.core.frame.DataFrame'>\n",
      "RangeIndex: 3268 entries, 0 to 3267\n",
      "Data columns (total 10 columns):\n",
      " #   Column         Non-Null Count  Dtype  \n",
      "---  ------         --------------  -----  \n",
      " 0   Product Name   3268 non-null   object \n",
      " 1   Product ID     3268 non-null   object \n",
      " 2   Listing Price  3268 non-null   int64  \n",
      " 3   Sale Price     3268 non-null   int64  \n",
      " 4   Discount       3268 non-null   int64  \n",
      " 5   Brand          3268 non-null   object \n",
      " 6   Description    3265 non-null   object \n",
      " 7   Rating         3268 non-null   float64\n",
      " 8   Reviews        3268 non-null   int64  \n",
      " 9   Last Visited   3268 non-null   object \n",
      "dtypes: float64(1), int64(4), object(5)\n",
      "memory usage: 255.4+ KB\n",
      "None\n",
      "       Listing Price    Sale Price     Discount       Rating      Reviews\n",
      "count    3268.000000   3268.000000  3268.000000  3268.000000  3268.000000\n",
      "mean     6868.020196   6134.265606    26.875765     3.242105    40.551714\n",
      "std      4724.659386   4293.247581    22.633487     1.428856    31.543491\n",
      "min         0.000000    449.000000     0.000000     0.000000     0.000000\n",
      "25%      4299.000000   2999.000000     0.000000     2.600000    10.000000\n",
      "50%      5999.000000   4799.000000    40.000000     3.500000    37.000000\n",
      "75%      8999.000000   7995.000000    50.000000     4.400000    68.000000\n",
      "max     29999.000000  36500.000000    60.000000     5.000000   223.000000\n"
     ]
    }
   ],
   "source": [
    "# Display basic information about the dataset\n",
    "print(df_Adidas_Vs_Nike.info())\n",
    "\n",
    "# Display summary statistics\n",
    "print(df_Adidas_Vs_Nike.describe())"
   ]
  },
  {
   "cell_type": "code",
   "execution_count": 80,
   "metadata": {},
   "outputs": [
    {
     "name": "stdout",
     "output_type": "stream",
     "text": [
      "                     product_name  product_id  listing_price  sale_price  \\\n",
      "0  Nike Air Force 1 '07 Essential  CJ1646-600              0        7495   \n",
      "1            Nike Air Force 1 '07  CT4328-101              0        7495   \n",
      "2    Nike Air Force 1 Sage Low LX  CI3482-200              0        9995   \n",
      "3             Nike Air Max Dia SE  CD0479-200              0        9995   \n",
      "4             Nike Air Max Verona  CZ6156-101              0        9995   \n",
      "\n",
      "   discount brand                                        description  rating  \\\n",
      "0         0  Nike  Let your shoe game shimmer in the Nike Air For...     0.0   \n",
      "1         0  Nike  The legend lives on in the Nike Air Force 1 '0...     0.0   \n",
      "2         0  Nike  Taking both height and craft to new levels, th...     0.0   \n",
      "3         0  Nike  Designed for a woman's foot, the Nike Air Max ...     0.0   \n",
      "4         0  Nike  Pass on the good vibes in the Nike Air Max Ver...     0.0   \n",
      "\n",
      "   reviews                                             images  \n",
      "0        0  [\"https://static.nike.com/a/images/t_PDP_1728_...  \n",
      "1        0  [\"https://static.nike.com/a/images/t_PDP_1728_...  \n",
      "2        0  [\"https://static.nike.com/a/images/t_PDP_1728_...  \n",
      "3        0  [\"https://static.nike.com/a/images/t_PDP_1728_...  \n",
      "4        0  [\"https://static.nike.com/a/images/t_PDP_1728_...  \n"
     ]
    }
   ],
   "source": [
    "import pandas as pd\n",
    "\n",
    "# Load the dataset into a DataFrame\n",
    "dataset_path = r'C:\\Users\\User\\Documents\\Brain Station\\Data Science\\Capstone\\capstone_social_listening_GC\\data\\nike_shoes_sales.csv'\n",
    "df_nike_shoes_sales = pd.read_csv(dataset_path)\n",
    "\n",
    "# Display the first few rows of the DataFrame\n",
    "print(df_nike_shoes_sales.head())"
   ]
  },
  {
   "cell_type": "code",
   "execution_count": 82,
   "metadata": {},
   "outputs": [
    {
     "name": "stdout",
     "output_type": "stream",
     "text": [
      "<class 'pandas.core.frame.DataFrame'>\n",
      "RangeIndex: 643 entries, 0 to 642\n",
      "Data columns (total 10 columns):\n",
      " #   Column         Non-Null Count  Dtype  \n",
      "---  ------         --------------  -----  \n",
      " 0   product_name   643 non-null    object \n",
      " 1   product_id     643 non-null    object \n",
      " 2   listing_price  643 non-null    int64  \n",
      " 3   sale_price     643 non-null    int64  \n",
      " 4   discount       643 non-null    int64  \n",
      " 5   brand          643 non-null    object \n",
      " 6   description    640 non-null    object \n",
      " 7   rating         643 non-null    float64\n",
      " 8   reviews        643 non-null    int64  \n",
      " 9   images         572 non-null    object \n",
      "dtypes: float64(1), int64(4), object(5)\n",
      "memory usage: 50.4+ KB\n",
      "None\n",
      "       listing_price    sale_price  discount      rating     reviews\n",
      "count     643.000000    643.000000     643.0  643.000000  643.000000\n",
      "mean     3875.762053  10213.676516       0.0    2.734837    7.181960\n",
      "std      5889.947172   4513.289512       0.0    2.137756   15.968315\n",
      "min         0.000000   1595.000000       0.0    0.000000    0.000000\n",
      "25%         0.000000   6995.000000       0.0    0.000000    0.000000\n",
      "50%         0.000000   9597.000000       0.0    3.800000    1.000000\n",
      "75%      8495.000000  12797.000000       0.0    4.600000    6.000000\n",
      "max     19995.000000  36500.000000       0.0    5.000000  223.000000\n"
     ]
    }
   ],
   "source": [
    "# Display basic information about the dataset\n",
    "print(df_nike_shoes_sales.info())\n",
    "\n",
    "# Display summary statistics\n",
    "print(df_nike_shoes_sales.describe())"
   ]
  },
  {
   "cell_type": "code",
   "execution_count": null,
   "metadata": {},
   "outputs": [],
   "source": []
  }
 ],
 "metadata": {
  "kernelspec": {
   "display_name": "Python 3 (ipykernel)",
   "language": "python",
   "name": "python3"
  },
  "language_info": {
   "codemirror_mode": {
    "name": "ipython",
    "version": 3
   },
   "file_extension": ".py",
   "mimetype": "text/x-python",
   "name": "python",
   "nbconvert_exporter": "python",
   "pygments_lexer": "ipython3",
   "version": "3.11.7"
  }
 },
 "nbformat": 4,
 "nbformat_minor": 4
}
