{
 "cells": [
  {
   "cell_type": "markdown",
   "id": "3a104c9b-a487-46c5-a5bf-65f4ce7233b6",
   "metadata": {},
   "source": [
    "<div id=\"container\" style=\"position:relative;\">\n",
    "<div style=\"float:left\"><h1>  \n",
    "\n",
    "# Project: Deliverable - Depression Data Analysis - BrainStation\n",
    "\n",
    "## Data Loading and Cleaning\n",
    "\n",
    "#### Author: Gennaro Costantino\n",
    "\n",
    "#### Contact: guillarogennaro@gmail.com\n",
    "\n",
    "#### Date: Aug-Sep, 2024\n",
    "    \n",
    "</h1></div>\n",
    "\n",
    "<div style=\"position:relative; float:right\">\n",
    "  <img style=\"height:130px\" src=\"https://miro.medium.com/v2/resize:fit:1100/format:webp/1*lzX0I82X916EpWbhTPiPJg.png\"/>\n",
    "</div>\n",
    "    "
   ]
  },
  {
   "cell_type": "markdown",
   "id": "43219bce-590f-4581-9d0e-54d3f6315fbb",
   "metadata": {},
   "source": [
    "# Steps:\n",
    "\n",
    "1. [Step 1: Data Loading & Cleaning](#step1)"
   ]
  },
  {
   "cell_type": "markdown",
   "id": "8be99d74-b634-4ce0-a2fd-2fca2a5cc4fd",
   "metadata": {},
   "source": [
    "# Step 1: Data Loading & Cleaning <a class=\"anchor\" id=\"step1\"></a>\n",
    "## Table of Contents\n",
    "---\n",
    "1. [Project Overview](#introduction)\n",
    "2. [Key Questions](#keyquestions)\n",
    "3. [Methods Used for Analysis](#methods)\n",
    "    -[Loading Libraries](#libs)\n",
    "4. [Data Set](#dataset)\n",
    "    - [Data Dictionary](#dict)\n",
    "5. [Initial Data Cleaning](#cleaning)\n",
    "    - [Plan of Action](#action)\n",
    "    - [Data Loading](#load)\n",
    "    - [Data Assessment](#assess)\n",
    "    - [Handling Missing Values](#missing)\n",
    "6. [Findings Summary](#findings)\n",
    "    - [Next Steps](#next)"
   ]
  },
  {
   "cell_type": "markdown",
   "id": "b4ea5e8d-7a94-4201-91eb-72f4597ee53f",
   "metadata": {},
   "source": [
    "## Project Overview <a class=\"anchor\" id=\"introduction\"></a>\n",
    "---\n",
    "\n",
    "### Depression Data Analysis\n",
    "\n",
    "This project focuses on analyzing a dataset related to personal and lifestyle attributes to explore potential risk factors for depression. The aim is to understand how various factors such as age, lifestyle habits, and medical history may contribute to mental health outcomes. By analyzing these data points, we hope to identify patterns and correlations that could inform future research or intervention strategies.\n",
    "\n",
    "### Key Objectives\n",
    "- Identify Risk Factors: Determine the most common attributes associated with depression.\n",
    "- Correlate Lifestyle Choices: Explore how lifestyle choices (e.g., smoking, physical activity, diet) relate to mental health.\n",
    "- Predictive Modeling: Develop models that can predict the likelihood of depression based on personal and lifestyle attributes.thout the need to read the code."
   ]
  },
  {
   "cell_type": "markdown",
   "id": "3a4ea4d4-7c50-4a9d-bc08-85a855bc0ae4",
   "metadata": {},
   "source": [
    "## Key Questions <a class=\"anchor\" id=\"keyquestions\"></a>\n",
    "---\n",
    "\n",
    "- What are the common risk factors associated with depression?\n",
    "- How do lifestyle choices, such as smoking and physical activity, correlate with mental health outcomes?\n",
    "- Can we predict the likelihood of depression based on these attributes?"
   ]
  },
  {
   "cell_type": "markdown",
   "id": "fd8f5e46-4201-40df-b312-11dd06b15863",
   "metadata": {},
   "source": [
    "## Methods Used for Analysis <a class=\"anchor\" id=\"methods\"></a>\n",
    "---"
   ]
  },
  {
   "cell_type": "markdown",
   "id": "fa4879fc-4c22-487f-a11a-a0d888dd48ac",
   "metadata": {},
   "source": [
    "- Exploratory Data Analysis (EDA): To uncover patterns, trends, and relationships in the data.\n",
    "- Data Preprocessing: For cleaning and preparing the data for analysis.\n",
    "- Predictive Modeling: To develop and evaluate models that predict depression risk.\n",
    "- Evaluation Metrics: To measure the performance of the models and validate findings.\n",
    "\n",
    "I used `Python 3` in `Jupyter Lab` and its associated libraries:\n",
    " - Pandas\n",
    "- Matplotlib\n",
    "- Ploty\n",
    "- Numpy\n",
    "- Seasborn\n",
    "- Matplotlib \n",
    "- Scipy\n",
    "- Sklearn\n",
    "\n",
    "We will load necesssary libraries below. More libraries will be loaded as needed for analysis."
   ]
  },
  {
   "cell_type": "markdown",
   "id": "ac927120-3ed6-4c63-aa9e-c1a48caf5bd1",
   "metadata": {},
   "source": [
    "## Loading the Necessary Libraries<a class=\"anchor\" id=\"load\"></a>\n",
    "---"
   ]
  },
  {
   "cell_type": "code",
   "execution_count": 12,
   "id": "c5c61f92-f509-4e38-b80c-8734491bdf8f",
   "metadata": {},
   "outputs": [
    {
     "name": "stderr",
     "output_type": "stream",
     "text": [
      "[nltk_data] Downloading package wordnet to\n",
      "[nltk_data]     C:\\Users\\User\\AppData\\Roaming\\nltk_data...\n",
      "[nltk_data]   Package wordnet is already up-to-date!\n"
     ]
    }
   ],
   "source": [
    "#load the necessary libraries for analysis\n",
    "import pandas as pd\n",
    "import numpy as np\n",
    "import matplotlib.pyplot as plt\n",
    "import seaborn as sns\n",
    "import plotly.express as px\n",
    "import plotly.subplots as sp\n",
    "import string\n",
    "import nltk\n",
    "\n",
    "# Downloading the WordNet corpus\n",
    "nltk.download('wordnet')\n",
    "\n",
    "from scipy import stats\n",
    "from scipy.stats import norm, chi2_contingency, f_oneway\n",
    "\n",
    "#filter warnings\n",
    "from warnings import filterwarnings\n",
    "filterwarnings('ignore')\n",
    "\n",
    "\n",
    "from sklearn.feature_extraction.text import CountVectorizer\n",
    "from nltk.corpus import stopwords\n",
    "from nltk.stem import WordNetLemmatizer #Lemmatization: Converts a word to its root form based on its meaning.\n",
    "from sklearn.preprocessing import StandardScaler, MinMaxScaler, label_binarize, LabelEncoder  \n",
    "from sklearn.linear_model import LogisticRegression \n",
    "from sklearn.model_selection import train_test_split, GridSearchCV, cross_val_score \n",
    "from sklearn.metrics import accuracy_score, confusion_matrix, classification_report, precision_score, recall_score, f1_score, roc_curve, auc, roc_auc_score \n",
    "from sklearn.svm import SVC \n",
    "from sklearn.multiclass import OneVsOneClassifier \n",
    "from sklearn.calibration import CalibratedClassifierCV\n",
    "from tempfile import mkdtemp \n",
    "from sklearn.decomposition import KernelPCA, PCA\n",
    "from imblearn.pipeline import Pipeline\n",
    "from sklearn.tree import DecisionTreeClassifier\n",
    "from sklearn.neighbors import KNeighborsClassifier \n",
    "from imblearn.over_sampling import SMOTE \n",
    "from sklearn.ensemble import RandomForestClassifier"
   ]
  },
  {
   "cell_type": "markdown",
   "id": "7445e93c-d85c-4461-afa3-990d43976a1a",
   "metadata": {},
   "source": [
    "## Data Set <a class=\"anchor\" id=\"dataset\"></a>\n",
    "---\n",
    "The dataset consists of 413,768 records and 16 attributes, each representing various personal and lifestyle characteristics of individuals. The dataset aims to provide a comprehensive overview of factors that may influence mental health, particularly focusing on aspects related to depression. The attributes include demographic information (e.g., age, marital status, education), lifestyle factors (e.g., smoking status, physical activity level, alcohol consumption), and medical history (e.g., history of mental illness, substance abuse, chronic medical conditions).\n"
   ]
  },
  {
   "cell_type": "markdown",
   "id": "07fd9051-5c4f-4f1b-9b00-837484a84e30",
   "metadata": {},
   "source": [
    "### Data Dictionary <a class=\"anchor\" id=\"dict\"></a>\n",
    "\n",
    "To help with the analysis, study the data dictionary below."
   ]
  },
  {
   "cell_type": "markdown",
   "id": "9cb2cce2-3b66-44e9-8980-8879307829f8",
   "metadata": {},
   "source": [
    "<table>\r\n",
    "  <tr>\r\n",
    "    <th style=\"text-align: left; background: lightgrey\">Column Name</th>\r\n",
    "    <th style=\"text-align: left; background: lightgrey\">Description</th>\r\n",
    "  </tr>\r\n",
    "  <tr>\r\n",
    "    <td>Name</td>\r\n",
    "    <td>The name of the individual (anonymized for privacy).</td>\r\n",
    "  </tr>\r\n",
    "  <tr>\r\n",
    "    <td>Age</td>\r\n",
    "    <td>The age of the individual (in years).</td>\r\n",
    "  </tr>\r\n",
    "  <tr>\r\n",
    "    <td>Marital Status</td>\r\n",
    "    <td>The marital status (e.g., Single, Married, Divorced, Widowed).</td>\r\n",
    "  </tr>\r\n",
    "  <tr>\r\n",
    "    <td>Education Level</td>\r\n",
    "    <td>The highest level of education attained (e.g., High School, Bachelor's, Master's).</td>\r\n",
    "  </tr>\r\n",
    "  <tr>\r\n",
    "    <td>Number of Children</td>\r\n",
    "    <td>The number of children the individual has.</td>\r\n",
    "  </tr>\r\n",
    "  <tr>\r\n",
    "    <td>Smoking Status</td>\r\n",
    "    <td>Indicates whether the individual is a smoker or non-smoker.</td>\r\n",
    "  </tr>\r\n",
    "  <tr>\r\n",
    "    <td>Physical Activity Level</td>\r\n",
    "    <td>The level of physical activity (e.g., Sedentary, Moderate, Active).</td>\r\n",
    "  </tr>\r\n",
    "  <tr>\r\n",
    "    <td>Employment Status</td>\r\n",
    "    <td>Employment status (e.g., Employed, Unemployed, Retired).</td>\r\n",
    "  </tr>\r\n",
    "  <tr>\r\n",
    "    <td>Income</td>\r\n",
    "    <td>Annual income of the individual (in USD).</td>\r\n",
    "  </tr>\r\n",
    "  <tr>\r\n",
    "    <td>Alcohol Consumption</td>\r\n",
    "    <td>Level of alcohol consumption (e.g., Low, Moderate, High).</td>\r\n",
    "  </tr>\r\n",
    "  <tr>\r\n",
    "    <td>Dietary Habits</td>\r\n",
    "    <td>Indicates the dietary habits (e.g., Healthy, Moderate, Unhealthy).</td>\r\n",
    "  </tr>\r\n",
    "  <tr>\r\n",
    "    <td>Sleep Patterns</td>\r\n",
    "    <td>Quality of sleep (e.g., Good, Fair, Poor).</td>\r\n",
    "  </tr>\r\n",
    "  <tr>\r\n",
    "    <td>History of Mental Illness</td>\r\n",
    "    <td>Whether the individual has a history of mental health issues (Yes/No).</td>\r\n",
    "  </tr>\r\n",
    "  <tr>\r\n",
    "    <td>History of Substance Abuse</td>\r\n",
    "    <td>Indicates if there is a history of substance abuse (Yes/No).</td>\r\n",
    "  </tr>\r\n",
    "  <tr>\r\n",
    "    <td>Family History of Depression</td>\r\n",
    "    <td>Indicates if there is a family history of depression (Yes/No).</td>\r\n",
    "  </tr>\r\n",
    "  <tr>\r\n",
    "    <td>Chronic Medical Conditions</td>\r\n",
    "    <td>Whether the individual has chronic medical conditions (Yes/No).</td>\r\n",
    "  </tr>\r\n",
    "</table>\r\n"
   ]
  },
  {
   "cell_type": "markdown",
   "id": "9a4c2755-c6c6-4176-9c8c-d9b2a2d53261",
   "metadata": {},
   "source": [
    "## Initial Data Cleaning <a class=\"anchor\" id=\"cleaning\"></a>\n",
    "---\n"
   ]
  },
  {
   "cell_type": "markdown",
   "id": "c3b71fca-5629-4ac1-b7ed-9e5a8ef5c6d8",
   "metadata": {},
   "source": [
    "### Plan of action <a class=\"anchor\" id=\"action\"></a>\n",
    "\n",
    "1. Data Loading\n",
    "2. Initial Data Assessment\n",
    "2. Data Cleaning\n",
    "    - Dealing with duplicated values\n",
    "    - Dealing with redundant columns\n",
    "    - Dealing with null values\n",
    "3. EDA \n",
    "4. Draw insights\n",
    "5. Formulate a conclusion"
   ]
  },
  {
   "cell_type": "markdown",
   "id": "f219b6cb-0b10-4797-b1e7-6556b7208f30",
   "metadata": {},
   "source": [
    "### Data Loading <a class=\"anchor\" id=\"load\"></a>\n",
    "---"
   ]
  },
  {
   "cell_type": "code",
   "execution_count": 19,
   "id": "cc6c11b4-0fb4-48f5-898e-dfcc70b86d82",
   "metadata": {},
   "outputs": [],
   "source": [
    "# Reading the CSV file downloaded from Kaggle\n",
    "df = pd.read_csv(r'C:\\Users\\User\\Documents\\Brain Station\\Data Science\\Capstone\\Capstone_Project_Depression Data Analysis\\data\\depression_data.csv')"
   ]
  },
  {
   "cell_type": "code",
   "execution_count": 20,
   "id": "9dab701d-d0f2-4ead-ac3b-b8ba01765df4",
   "metadata": {},
   "outputs": [
    {
     "data": {
      "text/html": [
       "<div>\n",
       "<style scoped>\n",
       "    .dataframe tbody tr th:only-of-type {\n",
       "        vertical-align: middle;\n",
       "    }\n",
       "\n",
       "    .dataframe tbody tr th {\n",
       "        vertical-align: top;\n",
       "    }\n",
       "\n",
       "    .dataframe thead th {\n",
       "        text-align: right;\n",
       "    }\n",
       "</style>\n",
       "<table border=\"1\" class=\"dataframe\">\n",
       "  <thead>\n",
       "    <tr style=\"text-align: right;\">\n",
       "      <th></th>\n",
       "      <th>Name</th>\n",
       "      <th>Age</th>\n",
       "      <th>Marital Status</th>\n",
       "      <th>Education Level</th>\n",
       "      <th>Number of Children</th>\n",
       "      <th>Smoking Status</th>\n",
       "      <th>Physical Activity Level</th>\n",
       "      <th>Employment Status</th>\n",
       "      <th>Income</th>\n",
       "      <th>Alcohol Consumption</th>\n",
       "      <th>Dietary Habits</th>\n",
       "      <th>Sleep Patterns</th>\n",
       "      <th>History of Mental Illness</th>\n",
       "      <th>History of Substance Abuse</th>\n",
       "      <th>Family History of Depression</th>\n",
       "      <th>Chronic Medical Conditions</th>\n",
       "    </tr>\n",
       "  </thead>\n",
       "  <tbody>\n",
       "    <tr>\n",
       "      <th>0</th>\n",
       "      <td>Christine Barker</td>\n",
       "      <td>31</td>\n",
       "      <td>Married</td>\n",
       "      <td>Bachelor's Degree</td>\n",
       "      <td>2</td>\n",
       "      <td>Non-smoker</td>\n",
       "      <td>Active</td>\n",
       "      <td>Unemployed</td>\n",
       "      <td>26265.67</td>\n",
       "      <td>Moderate</td>\n",
       "      <td>Moderate</td>\n",
       "      <td>Fair</td>\n",
       "      <td>Yes</td>\n",
       "      <td>No</td>\n",
       "      <td>Yes</td>\n",
       "      <td>Yes</td>\n",
       "    </tr>\n",
       "    <tr>\n",
       "      <th>1</th>\n",
       "      <td>Jacqueline Lewis</td>\n",
       "      <td>55</td>\n",
       "      <td>Married</td>\n",
       "      <td>High School</td>\n",
       "      <td>1</td>\n",
       "      <td>Non-smoker</td>\n",
       "      <td>Sedentary</td>\n",
       "      <td>Employed</td>\n",
       "      <td>42710.36</td>\n",
       "      <td>High</td>\n",
       "      <td>Unhealthy</td>\n",
       "      <td>Fair</td>\n",
       "      <td>Yes</td>\n",
       "      <td>No</td>\n",
       "      <td>No</td>\n",
       "      <td>Yes</td>\n",
       "    </tr>\n",
       "    <tr>\n",
       "      <th>2</th>\n",
       "      <td>Shannon Church</td>\n",
       "      <td>78</td>\n",
       "      <td>Widowed</td>\n",
       "      <td>Master's Degree</td>\n",
       "      <td>1</td>\n",
       "      <td>Non-smoker</td>\n",
       "      <td>Sedentary</td>\n",
       "      <td>Employed</td>\n",
       "      <td>125332.79</td>\n",
       "      <td>Low</td>\n",
       "      <td>Unhealthy</td>\n",
       "      <td>Good</td>\n",
       "      <td>No</td>\n",
       "      <td>No</td>\n",
       "      <td>Yes</td>\n",
       "      <td>No</td>\n",
       "    </tr>\n",
       "    <tr>\n",
       "      <th>3</th>\n",
       "      <td>Charles Jordan</td>\n",
       "      <td>58</td>\n",
       "      <td>Divorced</td>\n",
       "      <td>Master's Degree</td>\n",
       "      <td>3</td>\n",
       "      <td>Non-smoker</td>\n",
       "      <td>Moderate</td>\n",
       "      <td>Unemployed</td>\n",
       "      <td>9992.78</td>\n",
       "      <td>Moderate</td>\n",
       "      <td>Moderate</td>\n",
       "      <td>Poor</td>\n",
       "      <td>No</td>\n",
       "      <td>No</td>\n",
       "      <td>No</td>\n",
       "      <td>No</td>\n",
       "    </tr>\n",
       "  </tbody>\n",
       "</table>\n",
       "</div>"
      ],
      "text/plain": [
       "               Name  Age Marital Status    Education Level  \\\n",
       "0  Christine Barker   31        Married  Bachelor's Degree   \n",
       "1  Jacqueline Lewis   55        Married        High School   \n",
       "2    Shannon Church   78        Widowed    Master's Degree   \n",
       "3    Charles Jordan   58       Divorced    Master's Degree   \n",
       "\n",
       "   Number of Children Smoking Status Physical Activity Level  \\\n",
       "0                   2     Non-smoker                  Active   \n",
       "1                   1     Non-smoker               Sedentary   \n",
       "2                   1     Non-smoker               Sedentary   \n",
       "3                   3     Non-smoker                Moderate   \n",
       "\n",
       "  Employment Status     Income Alcohol Consumption Dietary Habits  \\\n",
       "0        Unemployed   26265.67            Moderate       Moderate   \n",
       "1          Employed   42710.36                High      Unhealthy   \n",
       "2          Employed  125332.79                 Low      Unhealthy   \n",
       "3        Unemployed    9992.78            Moderate       Moderate   \n",
       "\n",
       "  Sleep Patterns History of Mental Illness History of Substance Abuse  \\\n",
       "0           Fair                       Yes                         No   \n",
       "1           Fair                       Yes                         No   \n",
       "2           Good                        No                         No   \n",
       "3           Poor                        No                         No   \n",
       "\n",
       "  Family History of Depression Chronic Medical Conditions  \n",
       "0                          Yes                        Yes  \n",
       "1                           No                        Yes  \n",
       "2                          Yes                         No  \n",
       "3                           No                         No  "
      ]
     },
     "execution_count": 20,
     "metadata": {},
     "output_type": "execute_result"
    }
   ],
   "source": [
    "# New DF \n",
    "df.head(4)"
   ]
  },
  {
   "cell_type": "markdown",
   "id": "74572bf1-e700-4503-8dd0-5f8efbb41f85",
   "metadata": {},
   "source": [
    "### Data Assesment <a class=\"anchor\" id=\"assess\"></a>\n",
    "---"
   ]
  },
  {
   "cell_type": "markdown",
   "id": "bf0d87fd-6386-4a61-85fa-24836700839d",
   "metadata": {},
   "source": [
    "First lets take a look at the number of rows and columns in this data set"
   ]
  },
  {
   "cell_type": "code",
   "execution_count": 23,
   "id": "5150339a-c3a0-49e6-863c-f8a5fd9cb749",
   "metadata": {},
   "outputs": [
    {
     "data": {
      "text/plain": [
       "(413768, 16)"
      ]
     },
     "execution_count": 23,
     "metadata": {},
     "output_type": "execute_result"
    }
   ],
   "source": [
    "# Check the shape of the data:\n",
    "df.shape"
   ]
  },
  {
   "cell_type": "code",
   "execution_count": 24,
   "id": "cc451c7b-8512-41b5-86c9-def837f811b5",
   "metadata": {},
   "outputs": [
    {
     "data": {
      "text/plain": [
       "History of Mental Illness\n",
       "No     287943\n",
       "Yes    125825\n",
       "Name: count, dtype: int64"
      ]
     },
     "execution_count": 24,
     "metadata": {},
     "output_type": "execute_result"
    }
   ],
   "source": [
    "# Checking the value counts from our target\n",
    "df['History of Mental Illness'].value_counts()"
   ]
  },
  {
   "cell_type": "markdown",
   "id": "16bd9cc8-0181-483e-82db-6312019458a9",
   "metadata": {},
   "source": [
    "**Observations:** \n",
    "\n",
    "The dataset contains 413,768 entries and 16 columns.\n",
    "\n",
    "---\n"
   ]
  },
  {
   "cell_type": "markdown",
   "id": "ec4db428-33b0-4882-a858-38d62f604416",
   "metadata": {},
   "source": [
    "Next let familiarize ourselves with the data by checking th information contained in the data set."
   ]
  },
  {
   "cell_type": "markdown",
   "id": "50e45da2-a786-45cf-98a0-acfd4f558ed8",
   "metadata": {},
   "source": [
    "Next Steps:\n",
    "- Check data types and formats\n",
    "- Check data types Date column (transfor obejct to date format)\n",
    "- Check for duplicates\n",
    "- Check missing data\n",
    "\n",
    "---"
   ]
  },
  {
   "cell_type": "code",
   "execution_count": 28,
   "id": "a23924fd-af8f-4e3b-b3f7-4d96ca957995",
   "metadata": {},
   "outputs": [
    {
     "name": "stdout",
     "output_type": "stream",
     "text": [
      "<class 'pandas.core.frame.DataFrame'>\n",
      "RangeIndex: 413768 entries, 0 to 413767\n",
      "Data columns (total 16 columns):\n",
      " #   Column                        Non-Null Count   Dtype  \n",
      "---  ------                        --------------   -----  \n",
      " 0   Name                          413768 non-null  object \n",
      " 1   Age                           413768 non-null  int64  \n",
      " 2   Marital Status                413768 non-null  object \n",
      " 3   Education Level               413768 non-null  object \n",
      " 4   Number of Children            413768 non-null  int64  \n",
      " 5   Smoking Status                413768 non-null  object \n",
      " 6   Physical Activity Level       413768 non-null  object \n",
      " 7   Employment Status             413768 non-null  object \n",
      " 8   Income                        413768 non-null  float64\n",
      " 9   Alcohol Consumption           413768 non-null  object \n",
      " 10  Dietary Habits                413768 non-null  object \n",
      " 11  Sleep Patterns                413768 non-null  object \n",
      " 12  History of Mental Illness     413768 non-null  object \n",
      " 13  History of Substance Abuse    413768 non-null  object \n",
      " 14  Family History of Depression  413768 non-null  object \n",
      " 15  Chronic Medical Conditions    413768 non-null  object \n",
      "dtypes: float64(1), int64(2), object(13)\n",
      "memory usage: 50.5+ MB\n"
     ]
    }
   ],
   "source": [
    "df.info() # There is no nan values."
   ]
  },
  {
   "cell_type": "markdown",
   "id": "113886c2-e50f-4aa4-9b31-5030826151ce",
   "metadata": {},
   "source": [
    "**Observations:**\n",
    "\n",
    "This data set contains the following data types:\n",
    "\n",
    "- `float64`(1)\n",
    "- `int64`(2)\n",
    "- `obect`(13)\n",
    "\n",
    "There seems to not be columns with null values.\n",
    "\n",
    "---"
   ]
  },
  {
   "cell_type": "markdown",
   "id": "a6bc2a62-8d85-4285-b931-39a4968b2076",
   "metadata": {},
   "source": [
    "Next we will take a look at the number duplicate rows in the dataframe"
   ]
  },
  {
   "cell_type": "code",
   "execution_count": 31,
   "id": "febf93ff-e49b-4b7d-b4ab-39b09f87cf2e",
   "metadata": {},
   "outputs": [
    {
     "data": {
      "text/plain": [
       "0"
      ]
     },
     "execution_count": 31,
     "metadata": {},
     "output_type": "execute_result"
    }
   ],
   "source": [
    "# Check the number of duplicated rows. There are no duplicate rows in the dataset.\n",
    "df.duplicated().sum()"
   ]
  },
  {
   "cell_type": "code",
   "execution_count": 32,
   "id": "f3ba94be-a812-4c0a-bceb-b9488aa99bad",
   "metadata": {},
   "outputs": [
    {
     "data": {
      "text/html": [
       "<div>\n",
       "<style scoped>\n",
       "    .dataframe tbody tr th:only-of-type {\n",
       "        vertical-align: middle;\n",
       "    }\n",
       "\n",
       "    .dataframe tbody tr th {\n",
       "        vertical-align: top;\n",
       "    }\n",
       "\n",
       "    .dataframe thead th {\n",
       "        text-align: right;\n",
       "    }\n",
       "</style>\n",
       "<table border=\"1\" class=\"dataframe\">\n",
       "  <thead>\n",
       "    <tr style=\"text-align: right;\">\n",
       "      <th></th>\n",
       "      <th>Name</th>\n",
       "      <th>Age</th>\n",
       "      <th>Marital Status</th>\n",
       "      <th>Education Level</th>\n",
       "      <th>Number of Children</th>\n",
       "      <th>Smoking Status</th>\n",
       "      <th>Physical Activity Level</th>\n",
       "      <th>Employment Status</th>\n",
       "      <th>Income</th>\n",
       "      <th>Alcohol Consumption</th>\n",
       "      <th>Dietary Habits</th>\n",
       "      <th>Sleep Patterns</th>\n",
       "      <th>History of Mental Illness</th>\n",
       "      <th>History of Substance Abuse</th>\n",
       "      <th>Family History of Depression</th>\n",
       "      <th>Chronic Medical Conditions</th>\n",
       "    </tr>\n",
       "  </thead>\n",
       "  <tbody>\n",
       "  </tbody>\n",
       "</table>\n",
       "</div>"
      ],
      "text/plain": [
       "Empty DataFrame\n",
       "Columns: [Name, Age, Marital Status, Education Level, Number of Children, Smoking Status, Physical Activity Level, Employment Status, Income, Alcohol Consumption, Dietary Habits, Sleep Patterns, History of Mental Illness, History of Substance Abuse, Family History of Depression, Chronic Medical Conditions]\n",
       "Index: []"
      ]
     },
     "execution_count": 32,
     "metadata": {},
     "output_type": "execute_result"
    }
   ],
   "source": [
    "# Identify all rows that are duplicated including their first occurrences\n",
    "duplicate_rows_with_original = df[df.duplicated(keep=False)]\n",
    "\n",
    "# Display the first two sets of duplicated rows with their original counterparts\n",
    "duplicate_rows_with_original.head(4)  # showing both original and duplicated rows\n"
   ]
  },
  {
   "cell_type": "markdown",
   "id": "88f78a12-d8db-43a0-ab39-2fcb8caf34df",
   "metadata": {},
   "source": [
    "**Observations:**\n",
    "\n",
    "No duplicate entries were found.\n",
    "\n",
    "---\n"
   ]
  },
  {
   "cell_type": "markdown",
   "id": "78416038-3378-43f6-896d-2b28cb5f6a6d",
   "metadata": {},
   "source": [
    "Next we will take a look if any columns are duplicated by transposing the dataframe and running the duplicated function from above."
   ]
  },
  {
   "cell_type": "code",
   "execution_count": 35,
   "id": "9dd22f96-dc31-4bff-b8ab-f25184f89f4d",
   "metadata": {},
   "outputs": [],
   "source": [
    "# Transpose the data frame and then look for duplicated rows to determine if any of the columns are duplicated:\n",
    "#df.T.duplicated().sum() # this will take time to run!"
   ]
  },
  {
   "cell_type": "markdown",
   "id": "7b819ddb-cde3-4f91-8cf2-40d8f45ae4b3",
   "metadata": {},
   "source": [
    "**Observations:**\n",
    "\n",
    "There is no duplicated columns in this data frame. \n",
    "\n",
    "---"
   ]
  },
  {
   "cell_type": "markdown",
   "id": "fd151d17-f6cf-45e6-aa74-dddab7fe8ef7",
   "metadata": {},
   "source": [
    "### Handling Missing Values <a class=\"anchor\" id=\"missing\"></a>"
   ]
  },
  {
   "cell_type": "code",
   "execution_count": 38,
   "id": "0c010b55-0fa9-4b5e-b020-70cc1d575b43",
   "metadata": {},
   "outputs": [
    {
     "name": "stdout",
     "output_type": "stream",
     "text": [
      "Name                            0\n",
      "Age                             0\n",
      "Marital Status                  0\n",
      "Education Level                 0\n",
      "Number of Children              0\n",
      "Smoking Status                  0\n",
      "Physical Activity Level         0\n",
      "Employment Status               0\n",
      "Income                          0\n",
      "Alcohol Consumption             0\n",
      "Dietary Habits                  0\n",
      "Sleep Patterns                  0\n",
      "History of Mental Illness       0\n",
      "History of Substance Abuse      0\n",
      "Family History of Depression    0\n",
      "Chronic Medical Conditions      0\n",
      "dtype: int64\n"
     ]
    }
   ],
   "source": [
    "# Checking for missing values in each column. There are no missing values in the dataset. \n",
    "missing_values = df.isnull().sum()\n",
    "print(missing_values)"
   ]
  },
  {
   "cell_type": "code",
   "execution_count": 39,
   "id": "650d37ac-6d34-4cdb-a634-8188acd6c784",
   "metadata": {},
   "outputs": [
    {
     "data": {
      "text/plain": [
       "Series([], dtype: float64)"
      ]
     },
     "execution_count": 39,
     "metadata": {},
     "output_type": "execute_result"
    }
   ],
   "source": [
    "#check for missing values:\n",
    "null_counts = df.isna().sum()\n",
    "columns_with_nulls = null_counts[null_counts > 0]\n",
    "columns_with_nulls\n",
    "#lets take a look at the percentage of the data that these nulls make up\n",
    "percentage_nulls = columns_with_nulls/df.shape[0]*100\n",
    "percentage_nulls"
   ]
  },
  {
   "cell_type": "code",
   "execution_count": 40,
   "id": "8de11ec1-cfb7-4374-932c-d947db511a8e",
   "metadata": {},
   "outputs": [
    {
     "data": {
      "image/png": "[encoded data removed]",
      "text/plain": [
       "<Figure size 640x480 with 2 Axes>"
      ]
     },
     "metadata": {},
     "output_type": "display_data"
    }
   ],
   "source": [
    "# Visualize missing data using a heatmap\n",
    "sns.heatmap(df.isnull())\n",
    "plt.show()"
   ]
  },
  {
   "cell_type": "markdown",
   "id": "e9509972-9c9a-4cf3-a760-f58282b2b68e",
   "metadata": {},
   "source": [
    "**Observations:**\n",
    "\n",
    "There is no missing values.\n",
    "\n",
    "---"
   ]
  },
  {
   "cell_type": "markdown",
   "id": "189ca57d-5828-4eaa-a513-5bdd69ef8288",
   "metadata": {},
   "source": [
    "## Finding Summary <a class=\"anchor\" id=\"findings\"></a>\n",
    "\n",
    "The data has been assessed and cleaned by performing the following steps:\n",
    "\n",
    "- Checking for duplicated\n",
    "- Checking redundant or insignificant rows\n",
    "- Checking columns with a high proportion of null values\n",
    "- Converting date datatype to date format\n",
    "\n",
    "Before we move forward let's create a copy of our df:"
   ]
  },
  {
   "cell_type": "code",
   "execution_count": 43,
   "id": "57b6d820-e994-47b5-b690-64f75de407f3",
   "metadata": {},
   "outputs": [],
   "source": [
    "df_2 = df.copy()"
   ]
  },
  {
   "cell_type": "code",
   "execution_count": 44,
   "id": "d5abdc52-1f92-41a7-8f41-b19b5cd2f72d",
   "metadata": {},
   "outputs": [],
   "source": [
    "# For sanity lets check the DF info and see if the total rows decreased by 539. Total should be 515199"
   ]
  },
  {
   "cell_type": "code",
   "execution_count": 45,
   "id": "48b986d6-5868-4cc9-8905-3525ee323c03",
   "metadata": {},
   "outputs": [
    {
     "name": "stdout",
     "output_type": "stream",
     "text": [
      "<class 'pandas.core.frame.DataFrame'>\n",
      "RangeIndex: 413768 entries, 0 to 413767\n",
      "Data columns (total 16 columns):\n",
      " #   Column                        Non-Null Count   Dtype  \n",
      "---  ------                        --------------   -----  \n",
      " 0   Name                          413768 non-null  object \n",
      " 1   Age                           413768 non-null  int64  \n",
      " 2   Marital Status                413768 non-null  object \n",
      " 3   Education Level               413768 non-null  object \n",
      " 4   Number of Children            413768 non-null  int64  \n",
      " 5   Smoking Status                413768 non-null  object \n",
      " 6   Physical Activity Level       413768 non-null  object \n",
      " 7   Employment Status             413768 non-null  object \n",
      " 8   Income                        413768 non-null  float64\n",
      " 9   Alcohol Consumption           413768 non-null  object \n",
      " 10  Dietary Habits                413768 non-null  object \n",
      " 11  Sleep Patterns                413768 non-null  object \n",
      " 12  History of Mental Illness     413768 non-null  object \n",
      " 13  History of Substance Abuse    413768 non-null  object \n",
      " 14  Family History of Depression  413768 non-null  object \n",
      " 15  Chronic Medical Conditions    413768 non-null  object \n",
      "dtypes: float64(1), int64(2), object(13)\n",
      "memory usage: 50.5+ MB\n"
     ]
    }
   ],
   "source": [
    "df_2.info()"
   ]
  },
  {
   "cell_type": "markdown",
   "id": "c9b71e28-1881-4ed0-b6f1-bad81f3e8d5d",
   "metadata": {},
   "source": [
    "## Understanding the Categorical Data Type for Future Analysis:"
   ]
  },
  {
   "cell_type": "code",
   "execution_count": 47,
   "id": "7d75adde-b47d-40f0-b7e2-75ae6e0c6e7a",
   "metadata": {
    "scrolled": true
   },
   "outputs": [
    {
     "name": "stdout",
     "output_type": "stream",
     "text": [
      "Name\n",
      "Michael Smith      198\n",
      "Michael Johnson    147\n",
      "David Smith        131\n",
      "Robert Smith       128\n",
      "David Johnson      126\n",
      "                  ... \n",
      "Corey Moore          1\n",
      "Carl Ballard         1\n",
      "Carla Mcgrath        1\n",
      "Cory Wise            1\n",
      "Gary Faulkner        1\n",
      "Name: count, Length: 196851, dtype: int64\n",
      "Marital Status\n",
      "Married     240444\n",
      "Single       72110\n",
      "Widowed      68485\n",
      "Divorced     32729\n",
      "Name: count, dtype: int64\n",
      "Education Level\n",
      "Bachelor's Degree    124329\n",
      "High School          118927\n",
      "Associate Degree      79999\n",
      "Master's Degree       73768\n",
      "PhD                   16745\n",
      "Name: count, dtype: int64\n",
      "Smoking Status\n",
      "Non-smoker    247416\n",
      "Former        116184\n",
      "Current        50168\n",
      "Name: count, dtype: int64\n",
      "Physical Activity Level\n",
      "Sedentary    176850\n",
      "Moderate     158013\n",
      "Active        78905\n",
      "Name: count, dtype: int64\n",
      "Employment Status\n",
      "Employed      265659\n",
      "Unemployed    148109\n",
      "Name: count, dtype: int64\n",
      "Alcohol Consumption\n",
      "Moderate    173440\n",
      "Low         139250\n",
      "High        101078\n",
      "Name: count, dtype: int64\n",
      "Dietary Habits\n",
      "Unhealthy    170817\n",
      "Moderate     170446\n",
      "Healthy       72505\n",
      "Name: count, dtype: int64\n",
      "Sleep Patterns\n",
      "Fair    196789\n",
      "Poor    129582\n",
      "Good     87397\n",
      "Name: count, dtype: int64\n",
      "History of Mental Illness\n",
      "No     287943\n",
      "Yes    125825\n",
      "Name: count, dtype: int64\n",
      "History of Substance Abuse\n",
      "No     284880\n",
      "Yes    128888\n",
      "Name: count, dtype: int64\n",
      "Family History of Depression\n",
      "No     302515\n",
      "Yes    111253\n",
      "Name: count, dtype: int64\n",
      "Chronic Medical Conditions\n",
      "No     277561\n",
      "Yes    136207\n",
      "Name: count, dtype: int64\n"
     ]
    }
   ],
   "source": [
    "# Displaing the distribution of categorical columns:\n",
    "for column in df_2.select_dtypes(include=['object']).columns:\n",
    "    print(df_2[column].value_counts())"
   ]
  },
  {
   "cell_type": "code",
   "execution_count": 48,
   "id": "d799e151-94ca-49d9-8c23-9fdbde5c4ffe",
   "metadata": {},
   "outputs": [
    {
     "data": {
      "text/plain": [
       "{'Name': array(['Christine Barker', 'Jacqueline Lewis', 'Shannon Church', ...,\n",
       "        'Madeline Butler', 'Travis Brewer', 'Gary Faulkner'], dtype=object),\n",
       " 'Marital Status': array(['Married', 'Widowed', 'Divorced', 'Single'], dtype=object),\n",
       " 'Education Level': array([\"Bachelor's Degree\", 'High School', \"Master's Degree\",\n",
       "        'Associate Degree', 'PhD'], dtype=object),\n",
       " 'Smoking Status': array(['Non-smoker', 'Former', 'Current'], dtype=object),\n",
       " 'Physical Activity Level': array(['Active', 'Sedentary', 'Moderate'], dtype=object),\n",
       " 'Employment Status': array(['Unemployed', 'Employed'], dtype=object),\n",
       " 'Alcohol Consumption': array(['Moderate', 'High', 'Low'], dtype=object),\n",
       " 'Dietary Habits': array(['Moderate', 'Unhealthy', 'Healthy'], dtype=object),\n",
       " 'Sleep Patterns': array(['Fair', 'Good', 'Poor'], dtype=object),\n",
       " 'History of Mental Illness': array(['Yes', 'No'], dtype=object),\n",
       " 'History of Substance Abuse': array(['No', 'Yes'], dtype=object),\n",
       " 'Family History of Depression': array(['Yes', 'No'], dtype=object),\n",
       " 'Chronic Medical Conditions': array(['Yes', 'No'], dtype=object)}"
      ]
     },
     "execution_count": 48,
     "metadata": {},
     "output_type": "execute_result"
    }
   ],
   "source": [
    "# Check for unique values in each categorical column to identify inconsistencies\n",
    "unique_values = {column: df_2[column].unique() for column in df_2.select_dtypes(include=['object']).columns}\n",
    "\n",
    "# Display the results for review\n",
    "unique_values"
   ]
  },
  {
   "cell_type": "markdown",
   "id": "0fb3e760-0e02-44b1-80fe-761d0d8319bb",
   "metadata": {},
   "source": [
    "**Observations:**\n",
    "\n",
    "The categorical columns have consistent and clear values, so no immediate corrections are needed. Here are the categories identified:\n",
    "\n",
    "#### Possible Ordinal columns: \n",
    "- **Marital Status**: Married, Widowed, Divorced, Single\n",
    "- **Education Level**: Bachelor's Degree, High School, Master's Degree, Associate Degree, PhD\n",
    "- **Smoking Status**: Non-smoker, Former, Current\n",
    "- **Physical Activity Level**: Active, Sedentary, Moderate\n",
    "- **Employment Status**: Unemployed, Employed\n",
    "- **Alcohol Consumption**: Moderate, High, Low\n",
    "- **Dietary Habits**: Moderate, Unhealthy, Healthy\n",
    "- **Sleep Patterns**: Fair, Good, Poor\n",
    "  \n",
    "\n",
    "#### Possible Binary columns:\n",
    "- **History of Mental Illness**: Yes, No\n",
    "- **History of Substance Abuse**: No, Yes\n",
    "- **Family History of Depression**: Yes, No\n",
    "- **Chronic Medical Conditions**: Yes, No"
   ]
  }
 ],
 "metadata": {
  "kernelspec": {
   "display_name": "Python 3 (ipykernel)",
   "language": "python",
   "name": "python3"
  },
  "language_info": {
   "codemirror_mode": {
    "name": "ipython",
    "version": 3
   },
   "file_extension": ".py",
   "mimetype": "text/x-python",
   "name": "python",
   "nbconvert_exporter": "python",
   "pygments_lexer": "ipython3",
   "version": "3.11.7"
  }
 },
 "nbformat": 4,
 "nbformat_minor": 5
}
